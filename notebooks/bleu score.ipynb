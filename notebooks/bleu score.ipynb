{
 "cells": [
  {
   "cell_type": "markdown",
   "id": "8ecc2a38",
   "metadata": {},
   "source": [
    "# BLEU score"
   ]
  },
  {
   "cell_type": "code",
   "execution_count": 2,
   "id": "73e0501c",
   "metadata": {},
   "outputs": [
    {
     "name": "stdout",
     "output_type": "stream",
     "text": [
      "C:\\Users\\katar\\Desktop\\0nmt\n"
     ]
    }
   ],
   "source": [
    "cd .."
   ]
  },
  {
   "cell_type": "code",
   "execution_count": 22,
   "id": "8d5d564e",
   "metadata": {},
   "outputs": [],
   "source": [
    "from pathlib import Path\n",
    "\n",
    "import numpy as np\n",
    "import pytorch_lightning as pl\n",
    "import pytorch_lightning.callbacks as plc\n",
    "import torch\n",
    "import wandb\n",
    "from icecream import ic\n",
    "from matplotlib import pyplot as plt\n",
    "from pytorch_lightning.callbacks import ModelCheckpoint\n",
    "from pytorch_lightning.loggers.wandb import WandbLogger\n",
    "from torch.nn.utils.rnn import pad_sequence\n",
    "from torch.utils.data import DataLoader\n",
    "from torchtext.data.utils import get_tokenizer\n",
    "from torchtext.utils import download_from_url, extract_archive\n",
    "from torchtext.vocab import vocab\n",
    "from torchtext.data.metrics import bleu_score\n",
    "from tqdm import tqdm\n",
    "\n",
    "from zeronmt.datasets import ParallelDataset\n",
    "from zeronmt.models.datatypes import DimensionSpec, Language, Vectors\n",
    "from zeronmt.models.seq2seq import Seq2SeqSupervised, Seq2SeqUnsupervised\n",
    "from zeronmt.vectors import FastTextAligned"
   ]
  },
  {
   "cell_type": "code",
   "execution_count": 4,
   "id": "a6c81648",
   "metadata": {},
   "outputs": [],
   "source": [
    "VOCAB_SIZE = int(4.5e4)  # we will use only 45K most-frequent words\n",
    "\n",
    "device = torch.device(\"cuda\" if torch.cuda.is_available() else \"cpu\")\n",
    "special_tokens = [\"<unk>\", \"<pad>\", \"<bos>\", \"<eos>\"]\n",
    "tokenizer = get_tokenizer(\"basic_english\")  # keep it simple"
   ]
  },
  {
   "cell_type": "code",
   "execution_count": 5,
   "id": "12ac7d7d",
   "metadata": {},
   "outputs": [],
   "source": [
    "MAPPING_PATH = Path(\"best_mapping.pth\")"
   ]
  },
  {
   "cell_type": "code",
   "execution_count": 6,
   "id": "4bb88380",
   "metadata": {},
   "outputs": [],
   "source": [
    "mapping = torch.load(MAPPING_PATH)\n",
    "\n",
    "# We will use vanilla FastText word embeddings and align them with mapping trained before.\n",
    "src_vecs = FastTextAligned(\n",
    "    \"https://dl.fbaipublicfiles.com/fasttext/vectors-wiki/wiki.cs.vec\",\n",
    "    mapping=None,\n",
    "    special_toks=special_tokens,\n",
    "    max_vectors=VOCAB_SIZE\n",
    ")\n",
    "tgt_vecs = FastTextAligned(\n",
    "    \"https://dl.fbaipublicfiles.com/fasttext/vectors-wiki/wiki.pl.vec\",\n",
    "    mapping=mapping,\n",
    "    special_toks=special_tokens,\n",
    "    max_vectors=VOCAB_SIZE\n",
    ")"
   ]
  },
  {
   "cell_type": "code",
   "execution_count": 7,
   "id": "485c0cdc",
   "metadata": {},
   "outputs": [],
   "source": [
    "opensubtitles_filepaths =(\"OpenSubtitles.cs-pl.cs\", \"OpenSubtitles.cs-pl.pl\")\n",
    "test_filepaths = (\"TED2020.cs-pl.cs\", \"TED2020.cs-pl.pl\")"
   ]
  },
  {
   "cell_type": "code",
   "execution_count": 8,
   "id": "ddd17337",
   "metadata": {},
   "outputs": [],
   "source": [
    "tgt_vocab = vocab(tgt_vecs.stoi, min_freq=0)\n",
    "src_vocab = vocab(src_vecs.stoi, min_freq=0)"
   ]
  },
  {
   "cell_type": "code",
   "execution_count": 9,
   "id": "35fbd573",
   "metadata": {},
   "outputs": [],
   "source": [
    "src_vocab.set_default_index(src_vocab[\"<unk>\"])\n",
    "tgt_vocab.set_default_index(tgt_vocab[\"<unk>\"])"
   ]
  },
  {
   "cell_type": "code",
   "execution_count": 10,
   "id": "98eb878d",
   "metadata": {},
   "outputs": [],
   "source": [
    "BATCH_SIZE = 64\n",
    "\n",
    "# special tokens are prepended, so these indices are the same for both the languages\n",
    "PAD_IDX = src_vocab[\"<pad>\"]\n",
    "BOS_IDX = src_vocab[\"<bos>\"]\n",
    "EOS_IDX = src_vocab[\"<eos>\"]"
   ]
  },
  {
   "cell_type": "code",
   "execution_count": 12,
   "id": "08900f1d",
   "metadata": {},
   "outputs": [
    {
     "name": "stdout",
     "output_type": "stream",
     "text": [
      "C:\\Users\\katar\\Desktop\\0nmt\\.data\n"
     ]
    }
   ],
   "source": [
    "cd .data"
   ]
  },
  {
   "cell_type": "code",
   "execution_count": 13,
   "id": "0118bae4",
   "metadata": {},
   "outputs": [],
   "source": [
    "train_val_data = ParallelDataset(\n",
    "    *opensubtitles_filepaths,\n",
    "    src_vocab,\n",
    "    tgt_vocab,\n",
    "    tokenizer,\n",
    "    max_sentence_len=100,\n",
    "    max_nsentence=1e6\n",
    ")\n",
    "test_data = ParallelDataset(\n",
    "    *test_filepaths,\n",
    "    src_vocab,\n",
    "    tgt_vocab,\n",
    "    tokenizer,\n",
    "    max_sentence_len=100,\n",
    "    max_nsentence=1e6\n",
    ")"
   ]
  },
  {
   "cell_type": "code",
   "execution_count": 15,
   "id": "7043d225",
   "metadata": {},
   "outputs": [
    {
     "name": "stdout",
     "output_type": "stream",
     "text": [
      "C:\\Users\\katar\\Desktop\\0nmt\n"
     ]
    }
   ],
   "source": [
    "cd .."
   ]
  },
  {
   "cell_type": "code",
   "execution_count": 16,
   "id": "c55a37f7",
   "metadata": {},
   "outputs": [
    {
     "name": "stdout",
     "output_type": "stream",
     "text": [
      "embedding_src.weight\n",
      "embedding_tgt.weight\n",
      "encoder.special_toks_embedding.weight\n",
      "encoder.rnn.weight_ih_l0\n",
      "encoder.rnn.weight_hh_l0\n",
      "encoder.rnn.bias_ih_l0\n",
      "encoder.rnn.bias_hh_l0\n",
      "encoder.rnn.weight_ih_l0_reverse\n",
      "encoder.rnn.weight_hh_l0_reverse\n",
      "encoder.rnn.bias_ih_l0_reverse\n",
      "encoder.rnn.bias_hh_l0_reverse\n",
      "encoder.fc.weight\n",
      "encoder.fc.bias\n",
      "decoder.attention.attn.weight\n",
      "decoder.attention.attn.bias\n",
      "decoder.special_toks_embedding.weight\n",
      "decoder.rnn.weight_ih_l0\n",
      "decoder.rnn.weight_hh_l0\n",
      "decoder.rnn.bias_ih_l0\n",
      "decoder.rnn.bias_hh_l0\n",
      "decoder.output_to_src.weight\n",
      "decoder.output_to_src.bias\n",
      "decoder.output_to_tgt.weight\n",
      "decoder.output_to_tgt.bias\n"
     ]
    }
   ],
   "source": [
    "ENC_HID_DIM = 64\n",
    "DEC_HID_DIM = 64\n",
    "ATTN_DIM = 8\n",
    "ENC_DROPOUT = 0.5\n",
    "DEC_DROPOUT = 0.5\n",
    "\n",
    "model_loaded  = torch.load(\"model.ckpt\", map_location=torch.device('cpu'))\n",
    "\n",
    "model = Seq2SeqUnsupervised(DEC_DROPOUT,\n",
    "    ENC_DROPOUT,\n",
    "    DimensionSpec(\n",
    "        attention=ATTN_DIM,\n",
    "        dec_hid=DEC_HID_DIM,\n",
    "        enc_hid=ENC_HID_DIM,\n",
    "        nspecial_toks=len(special_tokens),\n",
    "    ),\n",
    "    PAD_IDX,\n",
    "    Vectors(src_vecs, tgt_vecs))"
   ]
  },
  {
   "cell_type": "code",
   "execution_count": 17,
   "id": "7eb6e242",
   "metadata": {},
   "outputs": [
    {
     "data": {
      "text/plain": [
       "<All keys matched successfully>"
      ]
     },
     "execution_count": 17,
     "metadata": {},
     "output_type": "execute_result"
    }
   ],
   "source": [
    "model.load_state_dict(model_loaded['state_dict'])"
   ]
  },
  {
   "cell_type": "code",
   "execution_count": 18,
   "id": "b8764224",
   "metadata": {},
   "outputs": [],
   "source": [
    "def collate_batch(data_batch):\n",
    "    src_batch, tgt_batch = [], []\n",
    "    for src_item, tgt_item in data_batch:\n",
    "        src_batch.append(\n",
    "            torch.cat(\n",
    "                [torch.tensor([BOS_IDX]), src_item, torch.tensor([EOS_IDX])], dim=0\n",
    "            )\n",
    "        )\n",
    "        tgt_batch.append(\n",
    "            torch.cat(\n",
    "                [torch.tensor([BOS_IDX]), tgt_item, torch.tensor([EOS_IDX])], dim=0\n",
    "            )\n",
    "        )\n",
    "    src_batch = pad_sequence(src_batch, padding_value=PAD_IDX)\n",
    "    tgt_batch = pad_sequence(tgt_batch, padding_value=PAD_IDX)\n",
    "    return src_batch, tgt_batch"
   ]
  },
  {
   "cell_type": "code",
   "execution_count": 19,
   "id": "26b64f94",
   "metadata": {},
   "outputs": [],
   "source": [
    "train_data, val_data = torch.utils.data.random_split(train_val_data, [0.8, 0.2])"
   ]
  },
  {
   "cell_type": "code",
   "execution_count": 20,
   "id": "e3e569ce",
   "metadata": {},
   "outputs": [],
   "source": [
    "train_dl = DataLoader(\n",
    "    train_data,\n",
    "    batch_size=BATCH_SIZE,\n",
    "    shuffle=True,\n",
    "    collate_fn=collate_batch,\n",
    "    num_workers=0,\n",
    ")\n",
    "valid_dl = DataLoader(\n",
    "    val_data,\n",
    "    batch_size=BATCH_SIZE,\n",
    "    shuffle=False,\n",
    "    collate_fn=collate_batch,\n",
    "    num_workers=0,\n",
    ")\n",
    "test_dl = DataLoader(\n",
    "    test_data,\n",
    "    batch_size=BATCH_SIZE,\n",
    "    shuffle=False,\n",
    "    collate_fn=collate_batch,\n",
    "    num_workers=0,\n",
    ")"
   ]
  },
  {
   "cell_type": "code",
   "execution_count": 24,
   "id": "34f44c1c",
   "metadata": {},
   "outputs": [
    {
     "name": "stderr",
     "output_type": "stream",
     "text": [
      "  2%|█████                                                                                                                                                                                                                                                          | 47/2359 [21:26<17:34:42, 27.37s/it]\n"
     ]
    }
   ],
   "source": [
    "tgt_, p_tgt_ = [], []\n",
    "for i, (src_in, tgt_in) in enumerate(tqdm(test_dl)):\n",
    "    if i >= (3000/64):\n",
    "        break\n",
    "    output = model(\n",
    "        src_in.to(device),\n",
    "        tgt_in.to(device),\n",
    "        Language.src,\n",
    "        Language.tgt,\n",
    "        teacher_forcing_ratio=0,\n",
    "    ).cpu()\n",
    "    torch.set_printoptions(profile=\"full\")\n",
    "    predicted_tokens = output.argmax(-1)\n",
    "    for s_snt, t_snt, pred_snt in zip(src_in.t(), tgt_in.t(), predicted_tokens.t()):\n",
    "        src_sent = list(filter(lambda x: x not in special_tokens, (src_vocab.get_itos()[t] for t in s_snt)))\n",
    "        pred_sent = list(filter(lambda x: x not in special_tokens, (tgt_vocab.get_itos()[t] for t in pred_snt)))\n",
    "        tgt_sent = list(filter(lambda x: x not in special_tokens, (tgt_vocab.get_itos()[t] for t in t_snt)))\n",
    "        #ic(src_sent)\n",
    "        #ic(pred_sent)\n",
    "        #ic(tgt_sent)\n",
    "        #print()\n",
    "        tgt_.append([tgt_sent])\n",
    "        p_tgt_.append(pred_sent)"
   ]
  },
  {
   "cell_type": "code",
   "execution_count": 25,
   "id": "87b06265",
   "metadata": {},
   "outputs": [
    {
     "data": {
      "text/plain": [
       "0.006097215227782726"
      ]
     },
     "execution_count": 25,
     "metadata": {},
     "output_type": "execute_result"
    }
   ],
   "source": [
    "bleu_score(p_tgt_, tgt_)"
   ]
  },
  {
   "cell_type": "code",
   "execution_count": 28,
   "id": "cb9077cb",
   "metadata": {},
   "outputs": [
    {
     "name": "stderr",
     "output_type": "stream",
     "text": [
      "  0%|                                                                                                                                                                                                                                                                           | 0/2359 [00:00<?, ?it/s]ic| src_sent: 'velice ti děkuji .'\n",
      "ic| pred_sent: 'tu być proszę .'\n",
      "ic| tgt_sent: 'bardzo dziękuję , chris .'\n"
     ]
    },
    {
     "name": "stdout",
     "output_type": "stream",
     "text": [
      "\n"
     ]
    },
    {
     "name": "stderr",
     "output_type": "stream",
     "text": [
      "ic| src_sent: 'je to opravdu veliká čest moci na tomto pódiu vystoupit dvakrát . jsem za to .'\n",
      "ic| pred_sent: ('jest jest naprawdę sprzedał naszą energię na jego drużyny . . . mnie jeszcze '\n",
      "                'to .')\n",
      "ic| tgt_sent: ('to prawdziwy mieć możliwość drugi raz stanąć w tym miejscu . jestem '\n",
      "               'niezwykle wdzięczny .')\n"
     ]
    },
    {
     "name": "stdout",
     "output_type": "stream",
     "text": [
      "\n"
     ]
    },
    {
     "name": "stderr",
     "output_type": "stream",
     "text": [
      "ic| src_sent: ('jsem z této konference nadšený a chtěl bych vám všem za množství komentářů k '\n",
      "               'mému předchozímu vystoupení .')\n",
      "ic| pred_sent: ('od mnie tę grę książki i najlepszy byś musimy częściej już rolę oka ci tutaj '\n",
      "                'żadnych kłopoty .')\n",
      "ic| tgt_sent: ('jestem tą . chce wam wszystkim za komentarze dotyczące mojej wypowiedzi '\n",
      "               'poprzedniego wieczoru .')\n"
     ]
    },
    {
     "name": "stdout",
     "output_type": "stream",
     "text": [
      "\n"
     ]
    },
    {
     "name": "stderr",
     "output_type": "stream",
     "text": [
      "ic| src_sent: 'a myslím to upřímně , částečně protože – ( falešný ) – to potřebuji !'\n",
      "ic| pred_sent: 'i wiesz to , , choć starsza ( ( a to bogiem ?'\n",
      "ic| tgt_sent: 'mówię to szczerze , po części ponieważ ( ) jest mi to potrzebne .'\n"
     ]
    },
    {
     "name": "stdout",
     "output_type": "stream",
     "text": [
      "\n"
     ]
    },
    {
     "name": "stderr",
     "output_type": "stream",
     "text": [
      "ic| src_sent: '( smích ) se do mé situace !'\n",
      "ic| pred_sent: '- ok , się ją chodzi sprowadza ?'\n",
      "ic| tgt_sent: '( śmiech ) się na moim miejscu !'\n"
     ]
    },
    {
     "name": "stdout",
     "output_type": "stream",
     "text": [
      "\n"
     ]
    },
    {
     "name": "stderr",
     "output_type": "stream",
     "text": [
      "ic| src_sent: 'let si .'\n",
      "ic| pred_sent: 'za .'\n",
      "ic| tgt_sent: 'samolotem przez lat .'\n"
     ]
    },
    {
     "name": "stdout",
     "output_type": "stream",
     "text": [
      "\n"
     ]
    },
    {
     "name": "stderr",
     "output_type": "stream",
     "text": [
      "ic| src_sent: 'a teď si musím boty , abych se do letadla vůbec dostal !'\n",
      "ic| pred_sent: 'i mi za muszę przeżycie , żebym się je żywego ono stać ?'\n",
      "ic| tgt_sent: 'teraz muszę buty , żeby wejść na pokład samolotu .'\n"
     ]
    },
    {
     "name": "stdout",
     "output_type": "stream",
     "text": [
      "\n"
     ]
    },
    {
     "name": "stderr",
     "output_type": "stream",
     "text": [
      "ic| src_sent: '( smích ) ( ) vám krátkou , která vám přiblíží , jaké to pro mě je .'\n",
      "ic| pred_sent: 'ok , g wy musimy mu , dam radę , jaki jest pani mamy pan .'\n",
      "ic| tgt_sent: '( śmiech i ) wam krótką historię , żeby przez co .'\n"
     ]
    },
    {
     "name": "stdout",
     "output_type": "stream",
     "text": [
      "\n"
     ]
    },
    {
     "name": "stderr",
     "output_type": "stream",
     "text": [
      "ic| src_sent: 'je to pravdivý příběh – do posledního detailu .'\n",
      "ic| pred_sent: 'jest jest ameryka rachunek a ją miesięcy pasuje .'\n",
      "ic| tgt_sent: 'ta historia jest prawdziwa w każdym .'\n"
     ]
    },
    {
     "name": "stdout",
     "output_type": "stream",
     "text": [
      "\n"
     ]
    },
    {
     "name": "stderr",
     "output_type": "stream",
     "text": [
      "ic| src_sent: ('nedlouho poté , co jsme s opustili – ( falešný ) – bílý dům – ( smích ) , '\n",
      "               'jsme jeli autem z našeho domova v , na naši malou farmu asi km na východ od '\n",
      "               '.')\n",
      "ic| pred_sent: ('policja i , nie do floty , ( ( ) ( . ( - - , , do do czynienia do w na na na '\n",
      "                'dół na na do .')\n",
      "ic| tgt_sent: ('wkrótce po tym jak i ja ( ) biały dom ( śmiech ) z domu w nashville na naszą '\n",
      "               'małą km na wschód od nashville')\n"
     ]
    },
    {
     "name": "stdout",
     "output_type": "stream",
     "text": [
      "\n"
     ]
    },
    {
     "name": "stderr",
     "output_type": "stream",
     "text": [
      "ic| src_sent: 'řídili jsme sami .'\n",
      "ic| pred_sent: 'ludzi ludzi ludzi .'\n",
      "ic| tgt_sent: '- sami .'\n"
     ]
    },
    {
     "name": "stdout",
     "output_type": "stream",
     "text": [
      "\n"
     ]
    },
    {
     "name": "stderr",
     "output_type": "stream",
     "text": [
      "ic| src_sent: ('já vím , vám to připadá jako , ale – ( smích ) podíval jsem se do zpětného a '\n",
      "               'najednou jsem si uvědomil')\n",
      "ic| pred_sent: 'myślę coś , to było jak , ale a , sir , żebym mi ją do i tak mnie za późno'\n",
      "ic| tgt_sent: 'wiem , że to brzmi jak , ale ( śmiech ) we i nagle'\n"
     ]
    },
    {
     "name": "stdout",
     "output_type": "stream",
     "text": [
      "\n"
     ]
    },
    {
     "name": "stderr",
     "output_type": "stream",
     "text": [
      "ic| src_sent: 'za námi kolona .'\n",
      "ic| pred_sent: 'jakieś do .'\n",
      "ic| tgt_sent: 'za mną nie było eskorty .'\n"
     ]
    },
    {
     "name": "stdout",
     "output_type": "stream",
     "text": [
      "\n"
     ]
    },
    {
     "name": "stderr",
     "output_type": "stream",
     "text": [
      "ic| src_sent: 'jste někdy o bolesti končetiny ?'\n",
      "ic| pred_sent: 'nikomu ze kawy mecz !'\n",
      "ic| tgt_sent: 'o bólu ?'\n"
     ]
    },
    {
     "name": "stdout",
     "output_type": "stream",
     "text": [
      "\n"
     ]
    },
    {
     "name": "stderr",
     "output_type": "stream",
     "text": [
      "ic| src_sent: '( smích ) byl to ford taurus z .'\n",
      "ic| pred_sent: 'o co pan jego jest super majątek od .'\n",
      "ic| tgt_sent: '( śmiech ) .'\n"
     ]
    },
    {
     "name": "stdout",
     "output_type": "stream",
     "text": [
      "\n"
     ]
    },
    {
     "name": "stderr",
     "output_type": "stream",
     "text": [
      "ic| src_sent: 'byl čas na večeři , tak jsme se začali , kde se .'\n",
      "ic| pred_sent: 'jego dziewczyny na godzinę , nie ludzi się razem , gdzie się .'\n",
      "ic| tgt_sent: 'była pora i się za miejscem gdzie można coś .'\n"
     ]
    },
    {
     "name": "stdout",
     "output_type": "stream",
     "text": [
      "\n"
     ]
    },
    {
     "name": "stderr",
     "output_type": "stream",
     "text": [
      "ic| src_sent: 'jsme z dálnice na , , tennessee ,'\n",
      "ic| pred_sent: 'ludzi od momentu na , , caroline ,'\n",
      "ic| tgt_sent: 'na autostradzie .'\n"
     ]
    },
    {
     "name": "stdout",
     "output_type": "stream",
     "text": [
      "\n"
     ]
    },
    {
     "name": "stderr",
     "output_type": "stream",
     "text": [
      "ic| src_sent: \"a našli restauraci ' .\"\n",
      "ic| pred_sent: \"i w gotowości ' .\"\n",
      "ic| tgt_sent: 'na na jedną z restauracji'\n"
     ]
    },
    {
     "name": "stdout",
     "output_type": "stream",
     "text": [
      "\n"
     ]
    },
    {
     "name": "stderr",
     "output_type": "stream",
     "text": [
      "ic| src_sent: 'je to řetězec rodinných restaurací , pokud ho .'\n",
      "ic| pred_sent: 'jest jest zajęta prace zniszczona , jeśli z .'\n",
      "ic| tgt_sent: 'sieć tanich rodzinnych restauracji - dla tych z was , którzy nie wiedzą .'\n"
     ]
    },
    {
     "name": "stdout",
     "output_type": "stream",
     "text": [
      "\n"
     ]
    },
    {
     "name": "stderr",
     "output_type": "stream",
     "text": [
      "ic| src_sent: ', si do boxu a přijde , velký rozruch kolem ( mé ženy ) .'\n",
      "ic| pred_sent: ', za kilka sekund i teraz , tam firmy wiele filmów mojej stronie .'\n",
      "ic| tgt_sent: 'do środka i przy . przyszła kelnerka i zrobiła wielkie zamieszanie z powodu .'\n"
     ]
    },
    {
     "name": "stdout",
     "output_type": "stream",
     "text": [
      "\n"
     ]
    },
    {
     "name": "stderr",
     "output_type": "stream",
     "text": [
      "ic| src_sent: ('( smích ) přijme naši objednávku a pak jde do boxu , a tak , že musím uši , '\n",
      "               'abych ji slyšel ,')\n",
      "ic| pred_sent: ('to wysoki jak dzień wolnego marsa i gdzie ponad oczy , i nie , że muszę tak '\n",
      "                ', trochę z nią ,')\n",
      "ic| tgt_sent: ('( śmiech ) przyjęła nasze zamówienie , po czym do pary obok nas , głos tak '\n",
      "               'bardzo , że musiałem się mocno , żeby usłyszeć co mówiła .')\n"
     ]
    },
    {
     "name": "stdout",
     "output_type": "stream",
     "text": [
      "\n"
     ]
    },
    {
     "name": "stderr",
     "output_type": "stream",
     "text": [
      "ic| src_sent: 'říká , je to bývalý viceprezident al gore a jeho žena .'\n",
      "ic| pred_sent: ', pan jest dorosły granicę , a i przez west .'\n",
      "ic| tgt_sent: 'powiedziała tak , to były wiceprezydent al gore i jego żona'\n"
     ]
    },
    {
     "name": "stdout",
     "output_type": "stream",
     "text": [
      "\n"
     ]
    },
    {
     "name": "stderr",
     "output_type": "stream",
     "text": [
      "ic| src_sent: 'a muž na to „ten ale pěkně dopadl . ( smích )'\n",
      "ic| pred_sent: 'i kobiety na to jej tylko wychodził na sytuacji .'\n",
      "ic| tgt_sent: 'na co facet odpowiedział ale się przejechał . . ( śmiech )'\n"
     ]
    },
    {
     "name": "stdout",
     "output_type": "stream",
     "text": [
      "\n"
     ]
    },
    {
     "name": "stderr",
     "output_type": "stream",
     "text": [
      "ic| src_sent: 'jedno za druhým .'\n",
      "ic| pred_sent: 'już żyła .'\n",
      "ic| tgt_sent: 'to był szereg pewnego rodzaju objawień'\n"
     ]
    },
    {
     "name": "stdout",
     "output_type": "stream",
     "text": [
      "\n"
     ]
    },
    {
     "name": "stderr",
     "output_type": "stream",
     "text": [
      "ic| src_sent: ('ale zpátky k naprosto příběhu den nato jsem odletěl do afriky , kde jsem měl '\n",
      "               'v nigérii ve městě promluvit na téma energetika .')\n",
      "ic| pred_sent: ('ale ponownie ci tak sobie sobie mnie uratować ją osobiście , gdzie mnie po w '\n",
      "                'w w w godzin na temat .')\n",
      "ic| tgt_sent: ('następnego dnia - kontynuując tą prawdziwą historię na pokład do afryki , '\n",
      "               'aby w nigerii w mieście lagos , na temat energii .')\n"
     ]
    },
    {
     "name": "stdout",
     "output_type": "stream",
     "text": [
      "\n"
     ]
    },
    {
     "name": "stderr",
     "output_type": "stream",
     "text": [
      "ic| src_sent: 'a začal jsem projev příběhu o tom , co se stalo den předtím v .'\n",
      "ic| pred_sent: 'i jego mnie jak sobie ze sobą , nie się stało na miejsce w .'\n",
      "ic| tgt_sent: 'przemówienie od co wydarzyło się dzień wcześniej w nashville .'\n"
     ]
    },
    {
     "name": "stdout",
     "output_type": "stream",
     "text": [
      "\n"
     ]
    },
    {
     "name": "stderr",
     "output_type": "stream",
     "text": [
      "ic| src_sent: (\"a vyprávěl jsem to víceméně tak , jako teď vám já a , ' s , řetězec \"\n",
      "               'rodinných restaurací , co řekl ten muž – se tomu .')\n",
      "ic| pred_sent: ('i tym pomyśleć jest ważniejsze nie , jak musimy coś i , , , do , , , , że '\n",
      "                'jej kobiety i się nie .')\n",
      "ic| tgt_sent: (\"ją tak samo , jak przed chwilą wam . i ja , ' s , tania sieć rodzinnych \"\n",
      "               'restauracji , wypowiedź tamtego - się')\n"
     ]
    },
    {
     "name": "stdout",
     "output_type": "stream",
     "text": [
      "\n"
     ]
    },
    {
     "name": "stderr",
     "output_type": "stream",
     "text": [
      "ic| src_sent: 'domluvil jsem , pak na letiště , zpátky domů .'\n",
      "ic| pred_sent: 'w mnie , gdzie na północ , ponownie pracy .'\n",
      "ic| tgt_sent: ', po czym na lotnisko , żeby do domu .'\n"
     ]
    },
    {
     "name": "stdout",
     "output_type": "stream",
     "text": [
      "\n"
     ]
    },
    {
     "name": "stderr",
     "output_type": "stream",
     "text": [
      "ic| src_sent: 'v letadle jsem , až uprostřed noci jsme přistáli na kvůli .'\n",
      "ic| pred_sent: 'w szkole mnie , aż bez sobie ludzi wojownika na pewne .'\n",
      "ic| tgt_sent: 'w samolocie , do momentu kiedy w środku nocy na , żeby .'\n"
     ]
    },
    {
     "name": "stdout",
     "output_type": "stream",
     "text": [
      "\n"
     ]
    },
    {
     "name": "stderr",
     "output_type": "stream",
     "text": [
      "ic| src_sent: 'jsem se a vyšel si trochu na vzduch , a najednou vidím , jak někdo běží přes .'\n",
      "ic| pred_sent: 'mi się i listy za gdyby na szczyt , i zawsze zrobiłem , czy mogę dostać nad .'\n",
      "ic| tgt_sent: ('się , otworzono drzwi , trochę powietrza . i nagle zauważyłem mężczyznę po '\n",
      "               'pasie startowym')\n"
     ]
    },
    {
     "name": "stdout",
     "output_type": "stream",
     "text": [
      "\n"
     ]
    },
    {
     "name": "stderr",
     "output_type": "stream",
     "text": [
      "ic| src_sent: 'a papíru a do washingtonu ! do washingtonu !'\n",
      "ic| pred_sent: 'i a i ją na ? ją na ?'\n",
      "ic| tgt_sent: 'papieru i do waszyngtonu ! do waszyngtonu'\n"
     ]
    },
    {
     "name": "stdout",
     "output_type": "stream",
     "text": [
      "\n"
     ]
    },
    {
     "name": "stderr",
     "output_type": "stream",
     "text": [
      "ic| src_sent: ('říkám si , uprostřed noci , uprostřed atlantiku , co můžou mít ve '\n",
      "               'washingtonu za ? no , něco by se našlo . . .')\n",
      "ic| pred_sent: ('wszystko za , do sobie , pracując dzieli , nie po drugiej stronie asteroid ! '\n",
      "                '- , było nasze się stało . . .')\n",
      "ic| tgt_sent: ('sobie , w środku nocy , na środku atlantyku co może być nie tak w '\n",
      "               'waszyngtonie ? wtedy sobie , że w waszyngtonie całkiem sporo rzeczy moze być '\n",
      "               'nie tak .')\n"
     ]
    },
    {
     "name": "stdout",
     "output_type": "stream",
     "text": [
      "\n"
     ]
    },
    {
     "name": "stderr",
     "output_type": "stream",
     "text": [
      "ic| src_sent: '( smích )'\n",
      "ic| pred_sent: 'ok ma .'\n",
      "ic| tgt_sent: '( śmiech )'\n"
     ]
    },
    {
     "name": "stdout",
     "output_type": "stream",
     "text": [
      "\n"
     ]
    },
    {
     "name": "stderr",
     "output_type": "stream",
     "text": [
      "ic| src_sent: ('ale ukázalo se , že můj personál dost , že o mém projevu už napsala jedna '\n",
      "               'tisková agentura . a už to ve městech po celých usa ,')\n",
      "ic| pred_sent: ('ale tylko się , że o której że ze mną więcej ona mała mała ilość kobiet . . '\n",
      "                'to swój czas nad ziemią .')\n",
      "ic| tgt_sent: ('ale okazało się , że mój personel był niezwykle , ponieważ jeden z serwisów '\n",
      "               'w nigerii zdążył napisać artykuł na temat mojej , który w miastach na '\n",
      "               'terenie całych stanów zjednoczonych .')\n"
     ]
    },
    {
     "name": "stdout",
     "output_type": "stream",
     "text": [
      "\n"
     ]
    },
    {
     "name": "stderr",
     "output_type": "stream",
     "text": [
      "ic| src_sent: 'i v , jsem si to .'\n",
      "ic| pred_sent: 'i w , mnie za jest .'\n",
      "ic| tgt_sent: 'ten w monterey , sprawdziłem .'\n"
     ]
    },
    {
     "name": "stdout",
     "output_type": "stream",
     "text": [
      "\n"
     ]
    },
    {
     "name": "stderr",
     "output_type": "stream",
     "text": [
      "ic| src_sent: (\"a ten článek začínal slovy viceprezident al gore včera v nigérii oznámil ' \"\n",
      "               \"spolu s jsme si otevřeli rodinný restaurant jménem ' s , a sami ho . ' ( \"\n",
      "               'smích ) než jsme přistáli v usa , už se do toho david a jay . mi a šlo od '\n",
      "               'burger s !')\n",
      "ic| pred_sent: 'i jej chcę w ogóle s ( o w samym momencie ? do do do domu , , , , , , w , do'\n",
      "ic| tgt_sent: ('artykuł rozpoczynał się słowami były wiceprezydent al gore ogłosił wczoraj w '\n",
      "               'nigerii wspólnie z moją żoną , rodzinną restaurację , nazywając ja i sami ją '\n",
      "               '( śmiech ) zanim na teren usa david i jay temat jeden z nich pokazał mnie w '\n",
      "               'wielkiej , białej , a , jeszcze jeden hamburger z !')\n"
     ]
    },
    {
     "name": "stdout",
     "output_type": "stream",
     "text": [
      "\n"
     ]
    },
    {
     "name": "stderr",
     "output_type": "stream",
     "text": [
      "ic| src_sent: ('a během tří dnů jsem dostal dlouhý ručně psaný dopis od mého přítele a '\n",
      "               'partnera a kolegy billa se slovy k nové restauraci , ale !')\n",
      "ic| pred_sent: ('i na tę okazję jego dla nas o porze przed twoim poinformować i z i ciebie i '\n",
      "                'się , na dół , ale ?')\n",
      "ic| tgt_sent: ('trzy dni później dostałem długi , napisany list od mojego przyjaciela i '\n",
      "               'partnera billa , w którym pisał z okazji otwarcia restauracji , al !')\n"
     ]
    },
    {
     "name": "stdout",
     "output_type": "stream",
     "text": [
      "\n"
     ]
    },
    {
     "name": "stderr",
     "output_type": "stream",
     "text": [
      "ic| src_sent: '( smích ) rádi životní úspěchy toho druhého .'\n",
      "ic| pred_sent: 'czyli sobie . grupę metalu lidze tego samego .'\n",
      "ic| tgt_sent: '( śmiech ) się nawzajem ze swoich życiowych sukcesów .'\n"
     ]
    },
    {
     "name": "stdout",
     "output_type": "stream",
     "text": [
      "\n"
     ]
    },
    {
     "name": "stderr",
     "output_type": "stream",
     "text": [
      "ic| src_sent: 'chtěl jsem mluvit o informační ekologii .'\n",
      "ic| pred_sent: 'ciężko mnie nie ma drobny wóz .'\n",
      "ic| tgt_sent: 'mówić o ekologii informacji'\n"
     ]
    },
    {
     "name": "stdout",
     "output_type": "stream",
     "text": [
      "\n"
     ]
    },
    {
     "name": "stderr",
     "output_type": "stream",
     "text": [
      "ic| src_sent: 'ale protože přednášet na ted až do smrti , o tom někdy jindy .'\n",
      "ic| pred_sent: 'zawsze nie obok na podstawie przed je zobaczyć , ze sobą też żyła .'\n",
      "ic| tgt_sent: 'ale skoro już sobie do ted przez całe życie , może o tym innym razem .'\n"
     ]
    },
    {
     "name": "stdout",
     "output_type": "stream",
     "text": [
      "\n"
     ]
    },
    {
     "name": "stderr",
     "output_type": "stream",
     "text": [
      "ic| src_sent: '( ) chris anderson platí !'\n",
      "ic| pred_sent: '( s nazwisku pomocy ?'\n",
      "ic| tgt_sent: '( ) chris anderson nie ma problemu !'\n"
     ]
    },
    {
     "name": "stdout",
     "output_type": "stream",
     "text": [
      "\n"
     ]
    },
    {
     "name": "stderr",
     "output_type": "stream",
     "text": [
      "ic| src_sent: ('al gore chci se soustředit na to , co mnozí z vás chtěli , abych rozvedl . '\n",
      "               'co můžete ohledně klimatické krize udělat vy ?')\n",
      "ic| pred_sent: ('ok ok masz się sam na to , nie w od jakiegoś ludzi , bym brał . . mogła '\n",
      "                'określić takiego stanu , czego !')\n",
      "ic| tgt_sent: ('się na tym , co wielu z was chciało rozwinął co sami możecie zrobić w '\n",
      "               'sprawie globalnego ?')\n"
     ]
    },
    {
     "name": "stdout",
     "output_type": "stream",
     "text": [
      "\n"
     ]
    },
    {
     "name": "stderr",
     "output_type": "stream",
     "text": [
      "ic| src_sent: 'začal bych tím , že vám vám několik nových obrázků a pak tak čtyři nebo pět .'\n",
      "ic| pred_sent: 'ciężko mi wszystkim , że musimy musimy z ziemią was i potem nie / lub miał .'\n",
      "ic| tgt_sent: 'od kilku nowych , po czym cztery albo pięć z nich .'\n"
     ]
    },
    {
     "name": "stdout",
     "output_type": "stream",
     "text": [
      "\n"
     ]
    },
    {
     "name": "stderr",
     "output_type": "stream",
     "text": [
      "ic| src_sent: 'teď , prezentace .'\n",
      "ic| pred_sent: 'wszystko , dana .'\n",
      "ic| tgt_sent: 'co do .'\n"
     ]
    },
    {
     "name": "stdout",
     "output_type": "stream",
     "text": [
      "\n"
     ]
    },
    {
     "name": "stderr",
     "output_type": "stream",
     "text": [
      "ic| src_sent: 'pokaždé , když , ji ,'\n",
      "ic| pred_sent: 'świetnie , które , z ,'\n",
      "ic| tgt_sent: 'zawsze go przed .'\n"
     ]
    },
    {
     "name": "stdout",
     "output_type": "stream",
     "text": [
      "\n"
     ]
    },
    {
     "name": "stderr",
     "output_type": "stream",
     "text": [
      "ic| src_sent: 'nové obrázky , protože se o tom něco nového pokaždé , když ji .'\n",
      "ic| pred_sent: '( człowieku , ale się ze tą było przed oczami , które jej .'\n",
      "ic| tgt_sent: 'nowe obrazy , ponieważ przy każdej prezentacji się czegoś nowego .'\n"
     ]
    },
    {
     "name": "stdout",
     "output_type": "stream",
     "text": [
      "\n"
     ]
    },
    {
     "name": "stderr",
     "output_type": "stream",
     "text": [
      "ic| src_sent: 'je to jako sbírání .'\n",
      "ic| pred_sent: 'jest to jak wychodził .'\n",
      "ic| tgt_sent: 'to jak plaży .'\n"
     ]
    },
    {
     "name": "stdout",
     "output_type": "stream",
     "text": [
      "\n"
     ]
    },
    {
     "name": "stderr",
     "output_type": "stream",
     "text": [
      "ic| src_sent: 'pokaždé když přijde vlna , jich najdete víc .'\n",
      "ic| pred_sent: 'ale nie powinno siebie , jakiego leci jedyną .'\n",
      "ic| tgt_sent: 'po każdym znajduje się nowe .'\n"
     ]
    },
    {
     "name": "stdout",
     "output_type": "stream",
     "text": [
      "\n"
     ]
    },
    {
     "name": "stderr",
     "output_type": "stream",
     "text": [
      "ic| src_sent: 'jen v posledních dvou dnech jsme tu měli nové teplotní rekordy pro leden .'\n",
      "ic| pred_sent: 'w w końcu stanie . wszystko mu listę stworzeń nowym pana michigan .'\n",
      "ic| tgt_sent: ('zaledwie w ciągu ostatnich dwóch dni odnotowano nową najwyższą temperaturę w '\n",
      "               'styczniu')\n"
     ]
    },
    {
     "name": "stdout",
     "output_type": "stream",
     "text": [
      "\n"
     ]
    },
    {
     "name": "stderr",
     "output_type": "stream",
     "text": [
      "ic| src_sent: 'toto platí jen pro spojené státy americké .'\n",
      "ic| pred_sent: 'jest prezesem ta pani b jaki bill .'\n",
      "ic| tgt_sent: 'mówimy tu o stanach zjednoczonych ameryki .'\n"
     ]
    },
    {
     "name": "stdout",
     "output_type": "stream",
     "text": [
      "\n"
     ]
    },
    {
     "name": "stderr",
     "output_type": "stream",
     "text": [
      "ic| src_sent: ('historický průměr pro leden je stupňů ( , ) . minulý měsíc to bylo . stupně '\n",
      "               '( ) .')\n",
      "ic| pred_sent: 'utrata śmierci pani peter pan oddziału , , , . do cholery jest . ( )'\n",
      "ic| tgt_sent: 'historyczna średnia temperatur w styczniu to stopni . w miesiącu było , .'\n"
     ]
    },
    {
     "name": "stdout",
     "output_type": "stream",
     "text": [
      "\n"
     ]
    },
    {
     "name": "stderr",
     "output_type": "stream",
     "text": [
      "ic| src_sent: ('vím , že jste chtěli nějaké další špatné zprávy o životním prostředí - - ale '\n",
      "               'toto je')\n",
      "ic| pred_sent: ('myślę , że chcesz odwagę w mieście doświadczenie doświadczenie przez zamek - '\n",
      "                '- tylko jest pan')\n",
      "ic| tgt_sent: 'wiem , że chcecie więcej złych wieści na temat środowiska . .'\n"
     ]
    },
    {
     "name": "stdout",
     "output_type": "stream",
     "text": [
      "\n"
     ]
    },
    {
     "name": "stderr",
     "output_type": "stream",
     "text": [
      "ic| src_sent: 'a pak vám nový materiál o tom , co můžete sami udělat .'\n",
      "ic| pred_sent: 'i gdzie musimy ich natura ma wiedziałem , nie muszę być szczęśliwy .'\n",
      "ic| tgt_sent: 'to są , później do nowych materiałów o tym co wy możecie zrobić .'\n"
     ]
    },
    {
     "name": "stdout",
     "output_type": "stream",
     "text": [
      "\n"
     ]
    },
    {
     "name": "stderr",
     "output_type": "stream",
     "text": [
      "ic| src_sent: 'ale chtěl jsem rozvést pár těchto .'\n",
      "ic| pred_sent: 'ale za mnie po drugiej stronie .'\n",
      "ic| tgt_sent: 'ale chciałem jeszcze rozwinąć kilka z tych .'\n"
     ]
    },
    {
     "name": "stdout",
     "output_type": "stream",
     "text": [
      "\n"
     ]
    },
    {
     "name": "stderr",
     "output_type": "stream",
     "text": [
      "ic| src_sent: ('za prvé , toto je očekávaný podíl usa na globálním oteplování při běžném '\n",
      "               'podnikání .')\n",
      "ic| pred_sent: ('policja go , jest pan darcy odkąd w na ostrym takim miejscu publicznym '\n",
      "                'federacji .')\n",
      "ic| tgt_sent: ('taki będzie wkład usa w globalne , jeśli nie zmian , jak zwykle . '\n",
      "               'wykorzystywanie energii')\n"
     ]
    },
    {
     "name": "stdout",
     "output_type": "stream",
     "text": [
      "\n"
     ]
    },
    {
     "name": "stderr",
     "output_type": "stream",
     "text": [
      "ic| src_sent: 'začít by se mělo u koncových spotřebitelů elektřiny a veškeré energie .'\n",
      "ic| pred_sent: 'kto uważa się był tam numerem ogranicza pamięci i jaki zniknął .'\n",
      "ic| tgt_sent: 'jest łatwe do osiągnięcia .'\n"
     ]
    },
    {
     "name": "stdout",
     "output_type": "stream",
     "text": [
      "\n"
     ]
    },
    {
     "name": "stderr",
     "output_type": "stream",
     "text": [
      "ic| src_sent: 'efektivita a zachování nejsou to náklady , je to zisk .'\n",
      "ic| pred_sent: 'i panowie przez ten jest planeta , a jest matką .'\n",
      "ic| tgt_sent: 'wydajność i to nie wydatki , lecz zysk .'\n"
     ]
    },
    {
     "name": "stdout",
     "output_type": "stream",
     "text": [
      "\n"
     ]
    },
    {
     "name": "stderr",
     "output_type": "stream",
     "text": [
      "ic| src_sent: 'je špatné .'\n",
      "ic| pred_sent: 'oczy .'\n",
      "ic| tgt_sent: 'takie myślenie jest błędne .'\n"
     ]
    },
    {
     "name": "stdout",
     "output_type": "stream",
     "text": [
      "\n"
     ]
    },
    {
     "name": "stderr",
     "output_type": "stream",
     "text": [
      "ic| src_sent: 'není to , je to plus .'\n",
      "ic| pred_sent: 'teraz jest , pan jest pierwsza .'\n",
      "ic| tgt_sent: 'bilans nie jest negatywny , jest pozytywny .'\n"
     ]
    },
    {
     "name": "stdout",
     "output_type": "stream",
     "text": [
      "\n"
     ]
    },
    {
     "name": "stderr",
     "output_type": "stream",
     "text": [
      "ic| src_sent: 'jsou to investice , které se .'\n",
      "ic| pred_sent: 'ten jest zamknięte , który się .'\n",
      "ic| tgt_sent: 'to są inwestycje , które się zwracają .'\n"
     ]
    },
    {
     "name": "stdout",
     "output_type": "stream",
     "text": [
      "\n"
     ]
    },
    {
     "name": "stderr",
     "output_type": "stream",
     "text": [
      "ic| src_sent: 'ale také nás velmi efektivně od naší cesty .'\n",
      "ic| pred_sent: 'ale również ludzi tu każdy swoją twoją wychodzić .'\n",
      "ic| tgt_sent: 'są też jednak bardzo skuteczne w naszej uwagi .'\n"
     ]
    },
    {
     "name": "stdout",
     "output_type": "stream",
     "text": [
      "\n"
     ]
    },
    {
     "name": "stderr",
     "output_type": "stream",
     "text": [
      "ic| src_sent: 'auta a - mluvil jsem o nich v prezentaci , ale chci vám to ukázat v kontextu .'\n",
      "ic| pred_sent: 'i i - widziałem ze sobą w londynie , ale masz musimy to tego w stanie .'\n",
      "ic| tgt_sent: ('samochody i ciężarówki - mówiłem o tym przy , ale chcę na to z szerszej '\n",
      "               'perspektywy .')\n"
     ]
    },
    {
     "name": "stdout",
     "output_type": "stream",
     "text": [
      "\n"
     ]
    },
    {
     "name": "stderr",
     "output_type": "stream",
     "text": [
      "ic| src_sent: ('je to jednoduchý , zřejmý cíl našich obav , a měl by být , ale znečištění '\n",
      "               'související s budovami je pro globální oteplování horší , než z aut a .')\n",
      "ic| pred_sent: ('jest pan sugeruje , moje urodziny dla firmy , i po nasz dom , a kto do do '\n",
      "                \"którego jesteś członkiem ' , od od ?\")\n",
      "ic| tgt_sent: ('to jasny i widoczny problem , i tak powinno być , ale więcej zanieczyszczeń '\n",
      "               'globalne pochodzi z budynków niż z samochodów i ciężarówek .')\n"
     ]
    },
    {
     "name": "stdout",
     "output_type": "stream",
     "text": [
      "\n"
     ]
    },
    {
     "name": "stderr",
     "output_type": "stream",
     "text": [
      "ic| src_sent: 'auta a jsou velmi významné a máme nejnižší standardy na světě ,'\n",
      "ic| pred_sent: 'a i ten tu zamek i wiem w rodzaju na podłodze ,'\n",
      "ic| tgt_sent: ('samochody osobowe i ciężarówki mają istotne znaczenie , a my mamy najniższe '\n",
      "               'normy na świecie ,')\n",
      "  0%|                                                                                                                                                                                                                                                                | 1/2359 [00:41<27:05:16, 41.36s/it]"
     ]
    },
    {
     "name": "stdout",
     "output_type": "stream",
     "text": [
      "\n"
     ]
    },
    {
     "name": "stderr",
     "output_type": "stream",
     "text": [
      "\n"
     ]
    }
   ],
   "source": [
    "tgt_, p_tgt_ = [], []\n",
    "for i, (src_in, tgt_in) in enumerate(tqdm(test_dl)):\n",
    "    if i ==1:\n",
    "        break\n",
    "    output = model(\n",
    "        src_in.to(device),\n",
    "        tgt_in.to(device),\n",
    "        Language.src,\n",
    "        Language.tgt,\n",
    "        teacher_forcing_ratio=0,\n",
    "    ).cpu()\n",
    "    torch.set_printoptions(profile=\"full\")\n",
    "    predicted_tokens = output.argmax(-1)\n",
    "    for s_snt, t_snt, pred_snt in zip(src_in.t(), tgt_in.t(), predicted_tokens.t()):\n",
    "        src_sent = ' '.join(list(filter(lambda x: x not in special_tokens, (src_vocab.get_itos()[t] for t in s_snt))))\n",
    "        pred_sent = ' '.join(list(filter(lambda x: x not in special_tokens, (tgt_vocab.get_itos()[t] for t in pred_snt))))\n",
    "        tgt_sent = ' '.join(list(filter(lambda x: x not in special_tokens, (tgt_vocab.get_itos()[t] for t in t_snt))))\n",
    "        ic(src_sent)\n",
    "        ic(pred_sent)\n",
    "        ic(tgt_sent)\n",
    "        print()\n",
    "        tgt_.append([tgt_sent])\n",
    "        p_tgt_.append(pred_sent)"
   ]
  },
  {
   "cell_type": "code",
   "execution_count": null,
   "id": "be137c2e",
   "metadata": {},
   "outputs": [],
   "source": []
  }
 ],
 "metadata": {
  "kernelspec": {
   "display_name": "Python 3 (ipykernel)",
   "language": "python",
   "name": "python3"
  },
  "language_info": {
   "codemirror_mode": {
    "name": "ipython",
    "version": 3
   },
   "file_extension": ".py",
   "mimetype": "text/x-python",
   "name": "python",
   "nbconvert_exporter": "python",
   "pygments_lexer": "ipython3",
   "version": "3.11.2"
  }
 },
 "nbformat": 4,
 "nbformat_minor": 5
}
