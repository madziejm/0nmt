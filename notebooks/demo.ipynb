{
  "cells": [
    {
      "attachments": {},
      "cell_type": "markdown",
      "metadata": {},
      "source": [
        "# Training demo notebook"
      ]
    },
    {
      "cell_type": "code",
      "execution_count": null,
      "metadata": {},
      "outputs": [],
      "source": [
        "# nasty hack for Colab\n",
        "![ -n $COLAB_RELEASE_TAG ] && git clone -b madziejm-dev https://github.com/madziejm/0nmt.git\n",
        "![ -n $COLAB_RELEASE_TAG ] && pip install -r ./0nmt/requirements.txt\n",
        "try:\n",
        "  import google.colab\n",
        "  import sys\n",
        "  sys.path.insert(0, '/content/0nmt')\n",
        "except Exception as e:\n",
        "  print(e)"
      ]
    },
    {
      "cell_type": "code",
      "execution_count": 2,
      "metadata": {},
      "outputs": [],
      "source": [
        "from pathlib import Path\n",
        "\n",
        "import numpy as np\n",
        "import pytorch_lightning as pl\n",
        "import pytorch_lightning.callbacks as plc\n",
        "import torch\n",
        "import wandb\n",
        "from icecream import ic\n",
        "from matplotlib import pyplot as plt\n",
        "from pytorch_lightning.callbacks import ModelCheckpoint\n",
        "from pytorch_lightning.loggers.wandb import WandbLogger\n",
        "from torch.nn.utils.rnn import pad_sequence\n",
        "from torch.utils.data import DataLoader\n",
        "from torchtext.data.utils import get_tokenizer\n",
        "from torchtext.utils import download_from_url, extract_archive\n",
        "from torchtext.vocab import vocab\n",
        "\n",
        "from zeronmt.datasets import ParallelDataset\n",
        "from zeronmt.models.datatypes import DimensionSpec, Language, Vectors\n",
        "from zeronmt.models.seq2seq import Seq2SeqSupervised, Seq2SeqUnsupervised\n",
        "from zeronmt.vectors import FastTextAligned"
      ]
    },
    {
      "cell_type": "code",
      "execution_count": 3,
      "metadata": {},
      "outputs": [],
      "source": [
        "VOCAB_SIZE = int(4.5e4)  # we will use only 45K most-frequent words\n",
        "\n",
        "device = torch.device(\"cuda\" if torch.cuda.is_available() else \"cpu\")\n",
        "special_tokens = [\"<unk>\", \"<pad>\", \"<bos>\", \"<eos>\"]\n",
        "tokenizer = get_tokenizer(\"basic_english\")  # keep it simple"
      ]
    },
    {
      "attachments": {},
      "cell_type": "markdown",
      "metadata": {},
      "source": [
        "## Unupervised training (cs-pl)"
      ]
    },
    {
      "attachments": {},
      "cell_type": "markdown",
      "metadata": {},
      "source": [
        "`src` means pl  \n",
        "`tgt` means cs"
      ]
    },
    {
      "attachments": {},
      "cell_type": "markdown",
      "metadata": {},
      "source": [
        "### Word embeddings"
      ]
    },
    {
      "cell_type": "code",
      "execution_count": 4,
      "metadata": {},
      "outputs": [],
      "source": [
        "MAPPING_PATH = Path(\"../best_mapping.pth\")"
      ]
    },
    {
      "cell_type": "code",
      "execution_count": 5,
      "metadata": {},
      "outputs": [],
      "source": [
        "mapping = torch.load(MAPPING_PATH)\n",
        "\n",
        "# We will use vanilla FastText word embeddings and align them with mapping trained before.\n",
        "src_vecs = FastTextAligned(\n",
        "    \"https://dl.fbaipublicfiles.com/fasttext/vectors-wiki/wiki.cs.vec\",\n",
        "    mapping=None,\n",
        "    special_toks=special_tokens,\n",
        "    max_vectors=VOCAB_SIZE\n",
        ")\n",
        "tgt_vecs = FastTextAligned(\n",
        "    \"https://dl.fbaipublicfiles.com/fasttext/vectors-wiki/wiki.pl.vec\",\n",
        "    mapping=mapping,\n",
        "    special_toks=special_tokens,\n",
        "    max_vectors=VOCAB_SIZE\n",
        ")"
      ]
    },
    {
      "cell_type": "code",
      "execution_count": 6,
      "metadata": {},
      "outputs": [],
      "source": [
        "opensubtitles_url = (\n",
        "    \"https://object.pouta.csc.fi/OPUS-OpenSubtitles/v2018/moses/cs-pl.txt.zip\"\n",
        ")\n",
        "\n",
        "test_url = \"https://object.pouta.csc.fi/OPUS-TED2020/v1/moses/cs-pl.txt.zip\"\n",
        "\n",
        "opensubtitles_filepaths = tuple(\n",
        "    fp\n",
        "    for fp in extract_archive(download_from_url(opensubtitles_url))\n",
        "    if any(f in fp for f in (\"OpenSubtitles.cs-pl.pl\", \"OpenSubtitles.cs-pl.cs\"))\n",
        ")\n",
        "\n",
        "# does not work as we have two archives with the same name\n",
        "# test_filepaths = tuple(\n",
        "#     fp\n",
        "#     for fp in extract_archive(download_from_url(test_url))\n",
        "#     if any(f in fp for f in (\"TED2020.cs-pl.pl\", \"TED2020.cs-pl.cs\"))\n",
        "# )\n",
        "# hopefully this will work\n",
        "test_filepaths = (\n",
        "    \".data/TED2020.cs-pl.cs\",\n",
        "    \".data/TED2020.cs-pl.pl\",\n",
        ")"
      ]
    },
    {
      "attachments": {},
      "cell_type": "markdown",
      "metadata": {},
      "source": [
        "Shuffle the dataset so the sentences are not aligned."
      ]
    },
    {
      "cell_type": "code",
      "execution_count": 7,
      "metadata": {},
      "outputs": [],
      "source": [
        "!shuf --random-source=<(yes 42) -o .data/OpenSubtitles.cs-pl.cs .data/OpenSubtitles.cs-pl.cs\n",
        "!shuf --random-source=<(yes 37) -o .data/OpenSubtitles.cs-pl.pl .data/OpenSubtitles.cs-pl.pl"
      ]
    },
    {
      "attachments": {},
      "cell_type": "markdown",
      "metadata": {},
      "source": [
        "#### Corpus sample\n",
        "We see that the sample is not actually parallel."
      ]
    },
    {
      "cell_type": "code",
      "execution_count": 8,
      "metadata": {},
      "outputs": [
        {
          "name": "stdout",
          "output_type": "stream",
          "text": [
            "Zavoláme k soudu a požádáme o odložení.\n",
            "Pro člověka jako vy to musí být těžké, co?\n",
            "Můžu říct, že čas strávený s váma je opravdu úžasný.\n",
            "Není ho kam umístit.\n",
            "Já tě neopustím.\n",
            "To trzy bezpieczne.\n",
            "To pieniądze.\n",
            "Chyba tak.\n",
            "Teraz nas interesujesz, później nie wiadomo.\n",
            "Prześladowca. - Nie.\n"
          ]
        }
      ],
      "source": [
        "!head -n 5 .data/OpenSubtitles.cs-pl.cs\n",
        "!head -n 5 .data/OpenSubtitles.cs-pl.pl"
      ]
    },
    {
      "cell_type": "code",
      "execution_count": 9,
      "metadata": {},
      "outputs": [],
      "source": [
        "tgt_vocab = vocab(tgt_vecs.stoi, min_freq=0)\n",
        "src_vocab = vocab(src_vecs.stoi, min_freq=0)"
      ]
    },
    {
      "cell_type": "code",
      "execution_count": 10,
      "metadata": {},
      "outputs": [],
      "source": [
        "src_vocab.set_default_index(src_vocab[\"<unk>\"])\n",
        "tgt_vocab.set_default_index(tgt_vocab[\"<unk>\"])"
      ]
    },
    {
      "cell_type": "code",
      "execution_count": 11,
      "metadata": {},
      "outputs": [],
      "source": [
        "BATCH_SIZE = 64\n",
        "\n",
        "# special tokens are prepended, so these indices are the same for both the languages\n",
        "PAD_IDX = src_vocab[\"<pad>\"]\n",
        "BOS_IDX = src_vocab[\"<bos>\"]\n",
        "EOS_IDX = src_vocab[\"<eos>\"]"
      ]
    },
    {
      "attachments": {},
      "cell_type": "markdown",
      "metadata": {},
      "source": [
        "### Dataset\n",
        "\n",
        "We will use only one milion sentences from every corpus.  \n",
        "TODO use more?\n",
        "\n",
        "We reuse the `ParallelDataset` class for simpler implementation. The sentences returned by the class will not be parallel in fact as it gets files that are not aligned on sentence level. The class will return the same pair of src-tgt sentences for a given index though. We could improve on implementation to return a random pair from src and tgt instead of returning a pair that is fixed, yet not parallel."
      ]
    },
    {
      "cell_type": "code",
      "execution_count": 12,
      "metadata": {},
      "outputs": [],
      "source": [
        "train_val_data = ParallelDataset(\n",
        "    *opensubtitles_filepaths,\n",
        "    src_vocab,\n",
        "    tgt_vocab,\n",
        "    tokenizer,\n",
        "    max_sentence_len=100,\n",
        "    max_nsentence=1e6\n",
        ")\n",
        "test_data = ParallelDataset(\n",
        "    *test_filepaths,\n",
        "    src_vocab,\n",
        "    tgt_vocab,\n",
        "    tokenizer,\n",
        "    max_sentence_len=100,\n",
        "    max_nsentence=1e6\n",
        ")"
      ]
    },
    {
      "cell_type": "code",
      "execution_count": 13,
      "metadata": {},
      "outputs": [
        {
          "name": "stderr",
          "output_type": "stream",
          "text": [
            "ic| len(train_val_data): 846993\n",
            "ic| len(test_data): 150947\n"
          ]
        },
        {
          "data": {
            "text/plain": [
              "150947"
            ]
          },
          "execution_count": 13,
          "metadata": {},
          "output_type": "execute_result"
        }
      ],
      "source": [
        "ic(len(train_val_data))\n",
        "ic(len(test_data))"
      ]
    },
    {
      "cell_type": "code",
      "execution_count": null,
      "metadata": {},
      "outputs": [
        {
          "data": {
            "text/plain": [
              "[]"
            ]
          },
          "execution_count": 21,
          "metadata": {},
          "output_type": "execute_result"
        },
        {
          "data": {
            "image/png": "[encoded data removed]",
            "text/plain": [
              "<Figure size 500x2000 with 4 Axes>"
            ]
          },
          "metadata": {},
          "output_type": "display_data"
        }
      ],
      "source": [
        "fig, axs = plt.subplots(nrows=4, figsize=(5, 4 * 5))\n",
        "\n",
        "for i, (hist_title, data) in enumerate(\n",
        "    ((\"train and validation\", train_val_data), (\"test\", test_data))\n",
        "):\n",
        "    counts, bins = np.histogram(data.lens_src)\n",
        "    axs[2 * i].stairs(counts, bins)\n",
        "    axs[2 * i].set_title(\n",
        "        hist_title + \" sentence length histogram (src sentences, before preprocessing)\"\n",
        "    )\n",
        "    axs[2 * i].set_yscale(\"log\")\n",
        "    axs[2 * i].set_xlabel(\"count (log)\")\n",
        "    axs[2 * i].set_xlabel(\"#tokens\")\n",
        "    counts, bins = np.histogram(data.lens_tgt)\n",
        "    axs[2 * i + 1].stairs(counts, bins)\n",
        "    axs[2 * i + 1].set_title(\n",
        "        hist_title + \" sentence length histogram (tgt sentences, before preprocessing)\"\n",
        "    )\n",
        "    axs[2 * i + 1].set_yscale(\"log\")\n",
        "    axs[2 * i + 1].set_xlabel(\"count (log)\")\n",
        "    axs[2 * i + 1].set_xlabel(\"#tokens\")\n",
        "\n",
        "    del data.lens_src\n",
        "    del data.lens_tgt\n",
        "\n",
        "plt.plot()"
      ]
    },
    {
      "attachments": {},
      "cell_type": "markdown",
      "metadata": {},
      "source": [
        "### Model"
      ]
    },
    {
      "cell_type": "code",
      "execution_count": null,
      "metadata": {},
      "outputs": [],
      "source": [
        "ENC_HID_DIM = 64\n",
        "DEC_HID_DIM = 64\n",
        "ATTN_DIM = 8\n",
        "ENC_DROPOUT = 0.5\n",
        "DEC_DROPOUT = 0.5"
      ]
    },
    {
      "cell_type": "code",
      "execution_count": null,
      "metadata": {},
      "outputs": [
        {
          "name": "stdout",
          "output_type": "stream",
          "text": [
            "embedding_src.weight\n",
            "embedding_tgt.weight\n",
            "encoder.special_toks_embedding.weight\n",
            "encoder.rnn.weight_ih_l0\n",
            "encoder.rnn.weight_hh_l0\n",
            "encoder.rnn.bias_ih_l0\n",
            "encoder.rnn.bias_hh_l0\n",
            "encoder.rnn.weight_ih_l0_reverse\n",
            "encoder.rnn.weight_hh_l0_reverse\n",
            "encoder.rnn.bias_ih_l0_reverse\n",
            "encoder.rnn.bias_hh_l0_reverse\n",
            "encoder.fc.weight\n",
            "encoder.fc.bias\n",
            "decoder.attention.attn.weight\n",
            "decoder.attention.attn.bias\n",
            "decoder.special_toks_embedding.weight\n",
            "decoder.rnn.weight_ih_l0\n",
            "decoder.rnn.weight_hh_l0\n",
            "decoder.rnn.bias_ih_l0\n",
            "decoder.rnn.bias_hh_l0\n",
            "decoder.output_to_src.weight\n",
            "decoder.output_to_src.bias\n",
            "decoder.output_to_tgt.weight\n",
            "decoder.output_to_tgt.bias\n"
          ]
        }
      ],
      "source": [
        "model = Seq2SeqSupervised(\n",
        "    DEC_DROPOUT,\n",
        "    ENC_DROPOUT,\n",
        "    DimensionSpec(\n",
        "        attention=ATTN_DIM,\n",
        "        dec_hid=DEC_HID_DIM,\n",
        "        enc_hid=ENC_HID_DIM,\n",
        "        nspecial_toks=len(special_tokens),\n",
        "    ),\n",
        "    PAD_IDX,\n",
        "    Vectors(src_vecs, tgt_vecs),\n",
        ")"
      ]
    },
    {
      "cell_type": "code",
      "execution_count": null,
      "metadata": {},
      "outputs": [
        {
          "data": {
            "text/plain": [
              "Seq2SeqSupervised(\n",
              "  (embedding_src): Embedding(627845, 300)\n",
              "  (embedding_tgt): Embedding(1032581, 300)\n",
              "  (encoder): Encoder(\n",
              "    (embedding_src): Embedding(627845, 300)\n",
              "    (embedding_tgt): Embedding(1032581, 300)\n",
              "    (special_toks_embedding): Embedding(4, 300, padding_idx=1)\n",
              "    (rnn): GRU(300, 64, bidirectional=True)\n",
              "    (fc): Linear(in_features=128, out_features=64, bias=True)\n",
              "    (dropout): Dropout(p=0.5, inplace=False)\n",
              "  )\n",
              "  (decoder): Decoder(\n",
              "    (embedding_src): Embedding(627845, 300)\n",
              "    (embedding_tgt): Embedding(1032581, 300)\n",
              "    (attention): Attention(\n",
              "      (attn): Linear(in_features=192, out_features=8, bias=True)\n",
              "    )\n",
              "    (special_toks_embedding): Embedding(4, 300, padding_idx=1)\n",
              "    (rnn): GRU(428, 64)\n",
              "    (output_to_src): Linear(in_features=492, out_features=627845, bias=True)\n",
              "    (output_to_tgt): Linear(in_features=492, out_features=1032581, bias=True)\n",
              "    (dropout): Dropout(p=0.5, inplace=False)\n",
              "  )\n",
              "  (criterion): CrossEntropyLoss()\n",
              ")"
            ]
          },
          "execution_count": 24,
          "metadata": {},
          "output_type": "execute_result"
        }
      ],
      "source": [
        "model"
      ]
    },
    {
      "attachments": {},
      "cell_type": "markdown",
      "metadata": {},
      "source": [
        "### Training"
      ]
    },
    {
      "cell_type": "code",
      "execution_count": null,
      "metadata": {},
      "outputs": [],
      "source": [
        "def collate_batch(data_batch):\n",
        "    src_batch, tgt_batch = [], []\n",
        "    for src_item, tgt_item in data_batch:\n",
        "        src_batch.append(\n",
        "            torch.cat(\n",
        "                [torch.tensor([BOS_IDX]), src_item, torch.tensor([EOS_IDX])], dim=0\n",
        "            )\n",
        "        )\n",
        "        tgt_batch.append(\n",
        "            torch.cat(\n",
        "                [torch.tensor([BOS_IDX]), tgt_item, torch.tensor([EOS_IDX])], dim=0\n",
        "            )\n",
        "        )\n",
        "    src_batch = pad_sequence(src_batch, padding_value=PAD_IDX)\n",
        "    tgt_batch = pad_sequence(tgt_batch, padding_value=PAD_IDX)\n",
        "    return src_batch, tgt_batch"
      ]
    },
    {
      "cell_type": "code",
      "execution_count": null,
      "metadata": {},
      "outputs": [],
      "source": [
        "train_data, val_data = torch.utils.data.random_split(train_val_data, [0.8, 0.2])"
      ]
    },
    {
      "cell_type": "code",
      "execution_count": null,
      "metadata": {},
      "outputs": [],
      "source": [
        "train_dl = DataLoader(\n",
        "    train_data,\n",
        "    batch_size=BATCH_SIZE,\n",
        "    shuffle=True,\n",
        "    collate_fn=collate_batch,\n",
        "    num_workers=0,\n",
        ")\n",
        "valid_dl = DataLoader(\n",
        "    val_data,\n",
        "    batch_size=BATCH_SIZE,\n",
        "    shuffle=False,\n",
        "    collate_fn=collate_batch,\n",
        "    num_workers=0,\n",
        ")\n",
        "test_dl = DataLoader(\n",
        "    test_data,\n",
        "    batch_size=BATCH_SIZE,\n",
        "    shuffle=False,\n",
        "    collate_fn=collate_batch,\n",
        "    num_workers=0,\n",
        ")"
      ]
    },
    {
      "cell_type": "code",
      "execution_count": null,
      "metadata": {},
      "outputs": [
        {
          "name": "stderr",
          "output_type": "stream",
          "text": [
            "Failed to detect the name of this notebook, you can set it manually with the WANDB_NOTEBOOK_NAME environment variable to enable code saving.\n"
          ]
        },
        {
          "name": "stderr",
          "output_type": "stream",
          "text": [
            "\u001b[34m\u001b[1mwandb\u001b[0m: Currently logged in as: \u001b[33m81bcd48a2\u001b[0m (\u001b[33m0nmt\u001b[0m). Use \u001b[1m`wandb login --relogin`\u001b[0m to force relogin\n"
          ]
        },
        {
          "data": {
            "text/html": [
              "Tracking run with wandb version 0.15.4"
            ],
            "text/plain": [
              "<IPython.core.display.HTML object>"
            ]
          },
          "metadata": {},
          "output_type": "display_data"
        },
        {
          "data": {
            "text/html": [
              "Run data is saved locally in <code>./wandb/run-20230618_013715-db4v58e6</code>"
            ],
            "text/plain": [
              "<IPython.core.display.HTML object>"
            ]
          },
          "metadata": {},
          "output_type": "display_data"
        },
        {
          "data": {
            "text/html": [
              "Syncing run <strong><a href='https://wandb.ai/0nmt/0nmt/runs/db4v58e6' target=\"_blank\">dazzling-yogurt-17</a></strong> to <a href='https://wandb.ai/0nmt/0nmt' target=\"_blank\">Weights & Biases</a> (<a href='https://wandb.me/run' target=\"_blank\">docs</a>)<br/>"
            ],
            "text/plain": [
              "<IPython.core.display.HTML object>"
            ]
          },
          "metadata": {},
          "output_type": "display_data"
        },
        {
          "data": {
            "text/html": [
              " View project at <a href='https://wandb.ai/0nmt/0nmt' target=\"_blank\">https://wandb.ai/0nmt/0nmt</a>"
            ],
            "text/plain": [
              "<IPython.core.display.HTML object>"
            ]
          },
          "metadata": {},
          "output_type": "display_data"
        },
        {
          "data": {
            "text/html": [
              " View run at <a href='https://wandb.ai/0nmt/0nmt/runs/db4v58e6' target=\"_blank\">https://wandb.ai/0nmt/0nmt/runs/db4v58e6</a>"
            ],
            "text/plain": [
              "<IPython.core.display.HTML object>"
            ]
          },
          "metadata": {},
          "output_type": "display_data"
        }
      ],
      "source": [
        "checkpoint_callback = ModelCheckpoint(monitor=\"val_loss\", mode=\"min\")\n",
        "wandb_logger = WandbLogger(project=\"0nmt\", log_model=\"all\")"
      ]
    },
    {
      "cell_type": "code",
      "execution_count": null,
      "metadata": {},
      "outputs": [
        {
          "name": "stderr",
          "output_type": "stream",
          "text": [
            "GPU available: False, used: False\n",
            "TPU available: False, using: 0 TPU cores\n",
            "IPU available: False, using: 0 IPUs\n",
            "HPU available: False, using: 0 HPUs\n",
            "\n",
            "  | Name          | Type             | Params\n",
            "---------------------------------------------------\n",
            "0 | embedding_src | Embedding        | 188 M \n",
            "1 | embedding_tgt | Embedding        | 309 M \n",
            "2 | encoder       | Encoder          | 498 M \n",
            "3 | decoder       | Decoder          | 1.3 B \n",
            "4 | criterion     | CrossEntropyLoss | 0     \n",
            "---------------------------------------------------\n",
            "818 M     Trainable params\n",
            "498 M     Non-trainable params\n",
            "1.3 B     Total params\n",
            "5,267.862 Total estimated model params size (MB)\n"
          ]
        },
        {
          "name": "stdout",
          "output_type": "stream",
          "text": [
            "Sanity Checking DataLoader 0:   0%|          | 0/2 [00:00<?, ?it/s]"
          ]
        },
        {
          "name": "stderr",
          "output_type": "stream",
          "text": [
            "/home/maciej/.cache/pypoetry/virtualenvs/0nmt-W1lV1jMD-py3.10/lib/python3.10/site-packages/pytorch_lightning/trainer/connectors/data_connector.py:430: PossibleUserWarning: The dataloader, val_dataloader, does not have many workers which may be a bottleneck. Consider increasing the value of the `num_workers` argument` (try 6 which is the number of cpus on this machine) in the `DataLoader` init to improve performance.\n",
            "  rank_zero_warn(\n",
            "/home/maciej/.cache/pypoetry/virtualenvs/0nmt-W1lV1jMD-py3.10/lib/python3.10/site-packages/pytorch_lightning/trainer/call.py:54: UserWarning: Detected KeyboardInterrupt, attempting graceful shutdown...\n",
            "  rank_zero_warn(\"Detected KeyboardInterrupt, attempting graceful shutdown...\")\n"
          ]
        }
      ],
      "source": [
        "trainer = pl.Trainer(\n",
        "    gradient_clip_val=1.0,\n",
        "    max_epochs=5,\n",
        "    val_check_interval=0.5,\n",
        "    callbacks=[plc.TQDMProgressBar(refresh_rate=5), checkpoint_callback],\n",
        "    logger=wandb_logger,\n",
        ")\n",
        "trainer.fit(\n",
        "    model,\n",
        "    train_dataloaders=[train_dl],\n",
        "    val_dataloaders=[valid_dl],\n",
        ")"
      ]
    },
    {
      "cell_type": "code",
      "execution_count": null,
      "metadata": {},
      "outputs": [],
      "source": [
        "wandb.finish()"
      ]
    },
    {
      "attachments": {},
      "cell_type": "markdown",
      "metadata": {},
      "source": [
        "## Supervised training (de-en)\n",
        "This will serve as a baseline in a sense."
      ]
    },
    {
      "attachments": {},
      "cell_type": "markdown",
      "metadata": {},
      "source": [
        "`src` means de  \n",
        "`tgt` means eng"
      ]
    },
    {
      "attachments": {},
      "cell_type": "markdown",
      "metadata": {},
      "source": [
        "### Word embeddings"
      ]
    },
    {
      "cell_type": "code",
      "execution_count": 4,
      "metadata": {},
      "outputs": [],
      "source": [
        "# Download aligned word embeddings for English and German.\n",
        "tgt_vecs = FastTextAligned(\n",
        "    \"https://dl.fbaipublicfiles.com/fasttext/vectors-aligned/wiki.en.align.vec\",\n",
        "    special_toks=special_tokens,\n",
        "    max_vectors=VOCAB_SIZE,\n",
        ")\n",
        "src_vecs = FastTextAligned(\n",
        "    \"https://dl.fbaipublicfiles.com/fasttext/vectors-aligned/wiki.de.align.vec\",\n",
        "    special_toks=special_tokens,\n",
        "    max_vectors=VOCAB_SIZE,\n",
        ")"
      ]
    },
    {
      "cell_type": "code",
      "execution_count": 5,
      "metadata": {},
      "outputs": [],
      "source": [
        "tgt_vocab = vocab(tgt_vecs.stoi, min_freq=0)\n",
        "src_vocab = vocab(src_vecs.stoi, min_freq=0)"
      ]
    },
    {
      "cell_type": "code",
      "execution_count": 6,
      "metadata": {},
      "outputs": [],
      "source": [
        "src_vocab.set_default_index(src_vocab[\"<unk>\"])\n",
        "tgt_vocab.set_default_index(tgt_vocab[\"<unk>\"])"
      ]
    },
    {
      "cell_type": "code",
      "execution_count": 7,
      "metadata": {},
      "outputs": [
        {
          "name": "stderr",
          "output_type": "stream",
          "text": [
            "ic| src_vecs.stoi[\"<unk>\"]: 0\n",
            "ic| src_vecs.stoi[\"<pad>\"]: 1\n",
            "ic| src_vecs.stoi[\"<bos>\"]: 2\n",
            "ic| src_vecs.stoi[\"<eos>\"]: 3\n"
          ]
        },
        {
          "data": {
            "text/plain": [
              "3"
            ]
          },
          "execution_count": 7,
          "metadata": {},
          "output_type": "execute_result"
        }
      ],
      "source": [
        "ic(src_vecs.stoi[\"<unk>\"])\n",
        "ic(src_vecs.stoi[\"<pad>\"])\n",
        "ic(src_vecs.stoi[\"<bos>\"])\n",
        "ic(src_vecs.stoi[\"<eos>\"])"
      ]
    },
    {
      "cell_type": "code",
      "execution_count": 8,
      "metadata": {},
      "outputs": [],
      "source": [
        "BATCH_SIZE = 64\n",
        "\n",
        "# special tokens are prepended, so these indices are the same for both the languages\n",
        "PAD_IDX = src_vocab[\"<pad>\"]\n",
        "BOS_IDX = src_vocab[\"<bos>\"]\n",
        "EOS_IDX = src_vocab[\"<eos>\"]"
      ]
    },
    {
      "cell_type": "code",
      "execution_count": 9,
      "metadata": {},
      "outputs": [
        {
          "name": "stderr",
          "output_type": "stream",
          "text": [
            "ic| PAD_IDX: 1\n",
            "ic| BOS_IDX: 2\n",
            "ic| EOS_IDX: 3\n"
          ]
        },
        {
          "data": {
            "text/plain": [
              "3"
            ]
          },
          "execution_count": 9,
          "metadata": {},
          "output_type": "execute_result"
        }
      ],
      "source": [
        "ic(PAD_IDX)\n",
        "ic(BOS_IDX)\n",
        "ic(EOS_IDX)"
      ]
    },
    {
      "attachments": {},
      "cell_type": "markdown",
      "metadata": {},
      "source": [
        "### Dataset"
      ]
    },
    {
      "cell_type": "code",
      "execution_count": 10,
      "metadata": {},
      "outputs": [],
      "source": [
        "opensubtitles_url = (\n",
        "    \"https://object.pouta.csc.fi/OPUS-OpenSubtitles/v2018/moses/de-en.txt.zip\"\n",
        ")\n",
        "test_urls = tuple(\n",
        "    \"https://raw.githubusercontent.com/multi30k/dataset/master/data/task1/raw/\"\n",
        "    + filename\n",
        "    for filename in (\"test_2016_flickr.de.gz\", \"test_2016_flickr.en.gz\")\n",
        ")\n",
        "\n",
        "opensubtitles_filepaths = tuple(\n",
        "    fp\n",
        "    for fp in extract_archive(download_from_url(opensubtitles_url))\n",
        "    if any(f in fp for f in (\"OpenSubtitles.de-en.en\", \"OpenSubtitles.de-en.de\"))\n",
        ")\n",
        "\n",
        "test_filepaths = [extract_archive(download_from_url(url))[0] for url in test_urls]"
      ]
    },
    {
      "cell_type": "code",
      "execution_count": 11,
      "metadata": {},
      "outputs": [],
      "source": [
        "train_val_data = ParallelDataset(\n",
        "    *opensubtitles_filepaths,\n",
        "    src_vocab,\n",
        "    tgt_vocab,\n",
        "    tokenizer,\n",
        "    max_sentence_len=100,\n",
        "    max_nsentence=1e6\n",
        ")\n",
        "test_data = ParallelDataset(\n",
        "    *test_filepaths,\n",
        "    src_vocab,\n",
        "    tgt_vocab,\n",
        "    tokenizer,\n",
        "    max_sentence_len=100,\n",
        "    max_nsentence=1e6\n",
        ")"
      ]
    },
    {
      "cell_type": "code",
      "execution_count": 12,
      "metadata": {},
      "outputs": [
        {
          "name": "stderr",
          "output_type": "stream",
          "text": [
            "ic| len(train_val_data): 930389\n",
            "ic| len(test_data): 1000\n"
          ]
        },
        {
          "data": {
            "text/plain": [
              "1000"
            ]
          },
          "execution_count": 12,
          "metadata": {},
          "output_type": "execute_result"
        }
      ],
      "source": [
        "ic(len(train_val_data))\n",
        "ic(len(test_data))"
      ]
    },
    {
      "cell_type": "code",
      "execution_count": 13,
      "metadata": {},
      "outputs": [
        {
          "data": {
            "text/plain": [
              "[]"
            ]
          },
          "execution_count": 13,
          "metadata": {},
          "output_type": "execute_result"
        },
        {
          "data": {
            "image/png": "[encoded data removed]",
            "text/plain": [
              "<Figure size 500x2000 with 4 Axes>"
            ]
          },
          "metadata": {},
          "output_type": "display_data"
        }
      ],
      "source": [
        "fig, axs = plt.subplots(nrows=4, figsize=(5, 4 * 5))\n",
        "\n",
        "for i, (hist_title, data) in enumerate(\n",
        "    ((\"train and validation\", train_val_data), (\"test\", test_data))\n",
        "):\n",
        "    counts, bins = np.histogram(data.lens_src)\n",
        "    axs[2 * i].stairs(counts, bins)\n",
        "    axs[2 * i].set_title(\n",
        "        hist_title + \" sentence length histogram (src sentences, before preprocessing)\"\n",
        "    )\n",
        "    axs[2 * i].set_yscale(\"log\")\n",
        "    axs[2 * i].set_xlabel(\"count (log)\")\n",
        "    axs[2 * i].set_xlabel(\"#tokens\")\n",
        "    counts, bins = np.histogram(data.lens_tgt)\n",
        "    axs[2 * i + 1].stairs(counts, bins)\n",
        "    axs[2 * i + 1].set_title(\n",
        "        hist_title + \" sentence length histogram (tgt sentences, before preprocessing)\"\n",
        "    )\n",
        "    axs[2 * i + 1].set_yscale(\"log\")\n",
        "    axs[2 * i + 1].set_xlabel(\"count (log)\")\n",
        "    axs[2 * i + 1].set_xlabel(\"#tokens\")\n",
        "\n",
        "    del data.lens_src\n",
        "    del data.lens_tgt\n",
        "\n",
        "plt.plot()"
      ]
    },
    {
      "attachments": {},
      "cell_type": "markdown",
      "metadata": {},
      "source": [
        "### Model"
      ]
    },
    {
      "cell_type": "code",
      "execution_count": 14,
      "metadata": {},
      "outputs": [],
      "source": [
        "ENC_HID_DIM = 64\n",
        "DEC_HID_DIM = 64\n",
        "ATTN_DIM = 8\n",
        "ENC_DROPOUT = 0.5\n",
        "DEC_DROPOUT = 0.5"
      ]
    },
    {
      "cell_type": "code",
      "execution_count": 15,
      "metadata": {},
      "outputs": [
        {
          "name": "stdout",
          "output_type": "stream",
          "text": [
            "embedding_src.weight\n",
            "embedding_tgt.weight\n",
            "encoder.special_toks_embedding.weight\n",
            "encoder.rnn.weight_ih_l0\n",
            "encoder.rnn.weight_hh_l0\n",
            "encoder.rnn.bias_ih_l0\n",
            "encoder.rnn.bias_hh_l0\n",
            "encoder.rnn.weight_ih_l0_reverse\n",
            "encoder.rnn.weight_hh_l0_reverse\n",
            "encoder.rnn.bias_ih_l0_reverse\n",
            "encoder.rnn.bias_hh_l0_reverse\n",
            "encoder.fc.weight\n",
            "encoder.fc.bias\n",
            "decoder.attention.attn.weight\n",
            "decoder.attention.attn.bias\n",
            "decoder.special_toks_embedding.weight\n",
            "decoder.rnn.weight_ih_l0\n",
            "decoder.rnn.weight_hh_l0\n",
            "decoder.rnn.bias_ih_l0\n",
            "decoder.rnn.bias_hh_l0\n",
            "decoder.output_to_src.weight\n",
            "decoder.output_to_src.bias\n",
            "decoder.output_to_tgt.weight\n",
            "decoder.output_to_tgt.bias\n"
          ]
        }
      ],
      "source": [
        "model = Seq2SeqSupervised(\n",
        "    DEC_DROPOUT,\n",
        "    ENC_DROPOUT,\n",
        "    DimensionSpec(\n",
        "        attention=ATTN_DIM,\n",
        "        dec_hid=DEC_HID_DIM,\n",
        "        enc_hid=ENC_HID_DIM,\n",
        "        nspecial_toks=len(special_tokens),\n",
        "    ),\n",
        "    PAD_IDX,\n",
        "    Vectors(src_vecs, tgt_vecs),\n",
        ")"
      ]
    },
    {
      "cell_type": "code",
      "execution_count": 16,
      "metadata": {},
      "outputs": [
        {
          "data": {
            "text/plain": [
              "Seq2SeqSupervised(\n",
              "  (embedding_src): Embedding(45004, 300)\n",
              "  (embedding_tgt): Embedding(45004, 300)\n",
              "  (encoder): Encoder(\n",
              "    (embedding_src): Embedding(45004, 300)\n",
              "    (embedding_tgt): Embedding(45004, 300)\n",
              "    (special_toks_embedding): Embedding(4, 300, padding_idx=1)\n",
              "    (rnn): GRU(300, 64, bidirectional=True)\n",
              "    (fc): Linear(in_features=128, out_features=64, bias=True)\n",
              "    (dropout): Dropout(p=0.5, inplace=False)\n",
              "  )\n",
              "  (decoder): Decoder(\n",
              "    (embedding_src): Embedding(45004, 300)\n",
              "    (embedding_tgt): Embedding(45004, 300)\n",
              "    (attention): Attention(\n",
              "      (attn): Linear(in_features=192, out_features=8, bias=True)\n",
              "    )\n",
              "    (special_toks_embedding): Embedding(4, 300, padding_idx=1)\n",
              "    (rnn): GRU(428, 64)\n",
              "    (output_to_src): Linear(in_features=492, out_features=45004, bias=True)\n",
              "    (output_to_tgt): Linear(in_features=492, out_features=45004, bias=True)\n",
              "    (dropout): Dropout(p=0.5, inplace=False)\n",
              "  )\n",
              "  (criterion): CrossEntropyLoss()\n",
              ")"
            ]
          },
          "execution_count": 16,
          "metadata": {},
          "output_type": "execute_result"
        }
      ],
      "source": [
        "model"
      ]
    },
    {
      "attachments": {},
      "cell_type": "markdown",
      "metadata": {},
      "source": [
        "### Training"
      ]
    },
    {
      "cell_type": "code",
      "execution_count": 17,
      "metadata": {},
      "outputs": [],
      "source": [
        "def collate_batch(data_batch):\n",
        "    src_batch, tgt_batch = [], []\n",
        "    for src_item, tgt_item in data_batch:\n",
        "        src_batch.append(\n",
        "            torch.cat(\n",
        "                [torch.tensor([BOS_IDX]), src_item, torch.tensor([EOS_IDX])], dim=0\n",
        "            )\n",
        "        )\n",
        "        tgt_batch.append(\n",
        "            torch.cat(\n",
        "                [torch.tensor([BOS_IDX]), tgt_item, torch.tensor([EOS_IDX])], dim=0\n",
        "            )\n",
        "        )\n",
        "    src_batch = pad_sequence(src_batch, padding_value=PAD_IDX)\n",
        "    tgt_batch = pad_sequence(tgt_batch, padding_value=PAD_IDX)\n",
        "    return src_batch, tgt_batch"
      ]
    },
    {
      "cell_type": "code",
      "execution_count": 18,
      "metadata": {},
      "outputs": [],
      "source": [
        "train_data, val_data = torch.utils.data.random_split(train_val_data, [0.8, 0.2])"
      ]
    },
    {
      "cell_type": "code",
      "execution_count": 19,
      "metadata": {},
      "outputs": [
        {
          "name": "stderr",
          "output_type": "stream",
          "text": [
            "ic| len(train_data): 744312\n",
            "ic| len(val_data): 186077\n"
          ]
        },
        {
          "data": {
            "text/plain": [
              "186077"
            ]
          },
          "execution_count": 19,
          "metadata": {},
          "output_type": "execute_result"
        }
      ],
      "source": [
        "ic(len(train_data))\n",
        "ic(len(val_data))"
      ]
    },
    {
      "cell_type": "code",
      "execution_count": 20,
      "metadata": {},
      "outputs": [],
      "source": [
        "train_dl = DataLoader(\n",
        "    train_data,\n",
        "    batch_size=BATCH_SIZE,\n",
        "    shuffle=True,\n",
        "    collate_fn=collate_batch,\n",
        "    num_workers=0,\n",
        ")\n",
        "valid_dl = DataLoader(\n",
        "    val_data,\n",
        "    batch_size=BATCH_SIZE,\n",
        "    shuffle=False,\n",
        "    collate_fn=collate_batch,\n",
        "    num_workers=0,\n",
        ")\n",
        "test_dl = DataLoader(\n",
        "    test_data,\n",
        "    batch_size=BATCH_SIZE,\n",
        "    shuffle=False,\n",
        "    collate_fn=collate_batch,\n",
        "    num_workers=0,\n",
        ")"
      ]
    },
    {
      "cell_type": "code",
      "execution_count": 21,
      "metadata": {},
      "outputs": [
        {
          "name": "stderr",
          "output_type": "stream",
          "text": [
            "Failed to detect the name of this notebook, you can set it manually with the WANDB_NOTEBOOK_NAME environment variable to enable code saving.\n"
          ]
        },
        {
          "name": "stderr",
          "output_type": "stream",
          "text": [
            "\u001b[34m\u001b[1mwandb\u001b[0m: Currently logged in as: \u001b[33m81bcd48a2\u001b[0m (\u001b[33m0nmt\u001b[0m). Use \u001b[1m`wandb login --relogin`\u001b[0m to force relogin\n"
          ]
        },
        {
          "data": {
            "text/html": [
              "Tracking run with wandb version 0.15.4"
            ],
            "text/plain": [
              "<IPython.core.display.HTML object>"
            ]
          },
          "metadata": {},
          "output_type": "display_data"
        },
        {
          "data": {
            "text/html": [
              "Run data is saved locally in <code>./wandb/run-20230618_013957-en2wlfgh</code>"
            ],
            "text/plain": [
              "<IPython.core.display.HTML object>"
            ]
          },
          "metadata": {},
          "output_type": "display_data"
        },
        {
          "data": {
            "text/html": [
              "Syncing run <strong><a href='https://wandb.ai/0nmt/0nmt/runs/en2wlfgh' target=\"_blank\">copper-plasma-18</a></strong> to <a href='https://wandb.ai/0nmt/0nmt' target=\"_blank\">Weights & Biases</a> (<a href='https://wandb.me/run' target=\"_blank\">docs</a>)<br/>"
            ],
            "text/plain": [
              "<IPython.core.display.HTML object>"
            ]
          },
          "metadata": {},
          "output_type": "display_data"
        },
        {
          "data": {
            "text/html": [
              " View project at <a href='https://wandb.ai/0nmt/0nmt' target=\"_blank\">https://wandb.ai/0nmt/0nmt</a>"
            ],
            "text/plain": [
              "<IPython.core.display.HTML object>"
            ]
          },
          "metadata": {},
          "output_type": "display_data"
        },
        {
          "data": {
            "text/html": [
              " View run at <a href='https://wandb.ai/0nmt/0nmt/runs/en2wlfgh' target=\"_blank\">https://wandb.ai/0nmt/0nmt/runs/en2wlfgh</a>"
            ],
            "text/plain": [
              "<IPython.core.display.HTML object>"
            ]
          },
          "metadata": {},
          "output_type": "display_data"
        }
      ],
      "source": [
        "checkpoint_callback = ModelCheckpoint(monitor=\"val_loss\", mode=\"min\")\n",
        "wandb_logger = WandbLogger(project=\"0nmt\", log_model=\"all\")"
      ]
    },
    {
      "cell_type": "code",
      "execution_count": 22,
      "metadata": {},
      "outputs": [
        {
          "name": "stderr",
          "output_type": "stream",
          "text": [
            "GPU available: False, used: False\n",
            "TPU available: False, using: 0 TPU cores\n",
            "IPU available: False, using: 0 IPUs\n",
            "HPU available: False, using: 0 HPUs\n",
            "\n",
            "  | Name          | Type             | Params\n",
            "---------------------------------------------------\n",
            "0 | embedding_src | Embedding        | 13.5 M\n",
            "1 | embedding_tgt | Embedding        | 13.5 M\n",
            "2 | encoder       | Encoder          | 27.2 M\n",
            "3 | decoder       | Decoder          | 71.5 M\n",
            "4 | criterion     | CrossEntropyLoss | 0     \n",
            "---------------------------------------------------\n",
            "44.6 M    Trainable params\n",
            "27.0 M    Non-trainable params\n",
            "71.6 M    Total params\n",
            "286.496   Total estimated model params size (MB)\n"
          ]
        },
        {
          "name": "stdout",
          "output_type": "stream",
          "text": [
            "Sanity Checking DataLoader 0:   0%|          | 0/2 [00:00<?, ?it/s]"
          ]
        },
        {
          "name": "stderr",
          "output_type": "stream",
          "text": [
            "/home/maciej/.cache/pypoetry/virtualenvs/0nmt-W1lV1jMD-py3.10/lib/python3.10/site-packages/pytorch_lightning/trainer/connectors/data_connector.py:430: PossibleUserWarning: The dataloader, val_dataloader, does not have many workers which may be a bottleneck. Consider increasing the value of the `num_workers` argument` (try 6 which is the number of cpus on this machine) in the `DataLoader` init to improve performance.\n",
            "  rank_zero_warn(\n"
          ]
        },
        {
          "name": "stdout",
          "output_type": "stream",
          "text": [
            "                                                                           "
          ]
        },
        {
          "name": "stderr",
          "output_type": "stream",
          "text": [
            "/home/maciej/.cache/pypoetry/virtualenvs/0nmt-W1lV1jMD-py3.10/lib/python3.10/site-packages/pytorch_lightning/trainer/connectors/data_connector.py:430: PossibleUserWarning: The dataloader, train_dataloader, does not have many workers which may be a bottleneck. Consider increasing the value of the `num_workers` argument` (try 6 which is the number of cpus on this machine) in the `DataLoader` init to improve performance.\n",
            "  rank_zero_warn(\n"
          ]
        },
        {
          "name": "stdout",
          "output_type": "stream",
          "text": [
            "Epoch 0:   0%|          | 0/11630 [00:00<?, ?it/s] "
          ]
        },
        {
          "name": "stderr",
          "output_type": "stream",
          "text": [
            "/home/maciej/.cache/pypoetry/virtualenvs/0nmt-W1lV1jMD-py3.10/lib/python3.10/site-packages/pytorch_lightning/trainer/call.py:54: UserWarning: Detected KeyboardInterrupt, attempting graceful shutdown...\n",
            "  rank_zero_warn(\"Detected KeyboardInterrupt, attempting graceful shutdown...\")\n"
          ]
        }
      ],
      "source": [
        "trainer = pl.Trainer(\n",
        "    gradient_clip_val=1.0,\n",
        "    max_epochs=5,\n",
        "    val_check_interval=0.5,\n",
        "    callbacks=[plc.TQDMProgressBar(refresh_rate=5), checkpoint_callback],\n",
        "    logger=wandb_logger,\n",
        ")\n",
        "trainer.fit(\n",
        "    model,\n",
        "    train_dataloaders=[train_dl],\n",
        "    val_dataloaders=[valid_dl],\n",
        ")"
      ]
    },
    {
      "cell_type": "code",
      "execution_count": null,
      "metadata": {},
      "outputs": [],
      "source": [
        "wandb.finish()"
      ]
    },
    {
      "attachments": {},
      "cell_type": "markdown",
      "metadata": {},
      "source": [
        "### Prediction examples"
      ]
    },
    {
      "cell_type": "code",
      "execution_count": null,
      "metadata": {},
      "outputs": [
        {
          "name": "stderr",
          "output_type": "stream",
          "text": [
            "ic| src_in.shape: torch.Size([5, 1])\n",
            "ic| src_in: tensor([[    2],\n",
            "                    [   47],\n",
            "                    [  969],\n",
            "                    [15732],\n",
            "                    [    3]])\n",
            "ic| tgt_in.shape: torch.Size([5, 1])\n",
            "ic| tgt_in: tensor([[    2],\n",
            "                    [   32],\n",
            "                    [  571],\n",
            "                    [14391],\n",
            "                    [    3]])\n"
          ]
        },
        {
          "data": {
            "text/plain": [
              "tensor([[    2],\n",
              "        [   32],\n",
              "        [  571],\n",
              "        [14391],\n",
              "        [    3]])"
            ]
          },
          "execution_count": 109,
          "metadata": {},
          "output_type": "execute_result"
        }
      ],
      "source": [
        "src_in = torch.tensor(\n",
        "    [src_vocab[token] for token in tokenizer(\"<bos> ich liebe kartoffeln <eos>\")]\n",
        ").unsqueeze(1)\n",
        "tgt_in = torch.tensor(\n",
        "    [tgt_vocab[token] for token in tokenizer(\"<bos> i love potatoes <eos>\")]\n",
        ").unsqueeze(\n",
        "    1\n",
        ")  # actually unused"
      ]
    },
    {
      "cell_type": "code",
      "execution_count": null,
      "metadata": {},
      "outputs": [
        {
          "name": "stderr",
          "output_type": "stream",
          "text": [
            "ic| output.shape: torch.Size([5, 1, 50004])\n",
            "ic| predicted_tokens.shape: torch.Size([5, 1])\n",
            "ic| predicted_tokens: tensor([[   0],\n",
            "                              [  25],\n",
            "                              [6329],\n",
            "                              [6329],\n",
            "                              [6329]])\n",
            "ic| [tgt_vocab.get_itos()[t] for t in predicted_tokens]: ['<unk>', 'it', 'su', 'su', 'su']\n"
          ]
        },
        {
          "data": {
            "text/plain": [
              "['<unk>', 'it', 'su', 'su', 'su']"
            ]
          },
          "execution_count": 112,
          "metadata": {},
          "output_type": "execute_result"
        }
      ],
      "source": [
        "output = model(\n",
        "    src_in.to(device),\n",
        "    tgt_in.to(device),\n",
        "    Language.src,\n",
        "    Language.tgt,\n",
        "    teacher_forcing_ratio=0,\n",
        ").cpu()\n",
        "torch.set_printoptions(profile=\"full\")\n",
        "predicted_tokens = output.argmax(-1)\n",
        "ic(predicted_tokens)\n",
        "tgt_sent = \" \".join([tgt_vocab.get_itos()[t] for t in predicted_tokens])\n",
        "ic(tgt_sent)"
      ]
    },
    {
      "cell_type": "code",
      "execution_count": null,
      "metadata": {},
      "outputs": [
        {
          "name": "stderr",
          "output_type": "stream",
          "text": [
            "ic| output.shape: torch.Size([5, 1, 50004])\n",
            "ic| predicted_tokens.shape: torch.Size([5, 1])\n",
            "ic| predicted_tokens: tensor([[    0],\n",
            "                              [   25],\n",
            "                              [28431],\n",
            "                              [28431],\n",
            "                              [28431]])\n",
            "ic| [tgt_vocab.get_itos()[t] for t in predicted_tokens]: ['<unk>', 'it', 'agonist', 'agonist', 'agonist']\n"
          ]
        },
        {
          "data": {
            "text/plain": [
              "['<unk>', 'it', 'agonist', 'agonist', 'agonist']"
            ]
          },
          "execution_count": 113,
          "metadata": {},
          "output_type": "execute_result"
        }
      ],
      "source": [
        "output = model(\n",
        "    src_in,\n",
        "    torch.tensor(tuple(tgt_vocab[\"<bos>\"] for _ in src_in[:, 0])).unsqueeze(-1),\n",
        "    Language.src,\n",
        "    Language.tgt,\n",
        "    teacher_forcing_ratio=0,\n",
        ")\n",
        "# torch.set_printoptions(profile=\"full\")\n",
        "predicted_tokens = output.argmax(-1)\n",
        "ic(output.shape)\n",
        "ic(predicted_tokens.shape)\n",
        "ic(predicted_tokens)\n",
        "ic([tgt_vocab.get_itos()[t] for t in predicted_tokens])"
      ]
    },
    {
      "cell_type": "code",
      "execution_count": null,
      "metadata": {},
      "outputs": [
        {
          "name": "stderr",
          "output_type": "stream",
          "text": [
            "ic| src_in.shape: torch.Size([23, 128])\n",
            "ic| tgt_in.shape: torch.Size([25, 128])\n",
            "ic| src_in.shape: torch.Size([23, 1])\n",
            "ic| tgt_in.shape: torch.Size([25, 1])\n",
            "ic| src_in[:, 0]: tensor([   2, 1695,   21,   34,   66,    8,    0,    5,  203,   32,    8,    0,\n",
            "                             4,    3,    1,    1,    1,    1,    1,    1,    1,    1,    1])\n",
            "ic| tgt_in[:, 0]: tensor([    2,    11,    29,    17,     6, 25597,     4,     6, 27690,     5,\n",
            "                              3,     1,     1,     1,     1,     1,     1,     1,     1,     1,\n",
            "                              1,     1,     1,     1,     1])\n",
            "ic| output.shape: torch.Size([25, 1, 50004])\n",
            "ic| predicted_tokens.shape: torch.Size([25, 1])\n",
            "ic| predicted_tokens[:, 0]: tensor([ 0, 25, 35, 25,  1,  1,  1,  1,  1,  1,  1,  1,  1,  1,  1,  1,  1,  1,\n",
            "                                     1,  1,  1,  1,  1,  1,  1])\n",
            "ic| [src_vocab.get_itos()[t] for t in src_in[:12]]: ['<bos>',\n",
            "                                                     'gott',\n",
            "                                                     'ist',\n",
            "                                                     'nicht',\n",
            "                                                     'nur',\n",
            "                                                     'der',\n",
            "                                                     '<unk>',\n",
            "                                                     ',',\n",
            "                                                     'sondern',\n",
            "                                                     'auch',\n",
            "                                                     'der',\n",
            "                                                     '<unk>']\n",
            "ic| [tgt_vocab.get_itos()[t] for t in predicted_tokens[:12]]: ['<unk>',\n",
            "                                                               'it',\n",
            "                                                               'his',\n",
            "                                                               'it',\n",
            "                                                               '<pad>',\n",
            "                                                               '<pad>',\n",
            "                                                               '<pad>',\n",
            "                                                               '<pad>',\n",
            "                                                               '<pad>',\n",
            "                                                               '<pad>',\n",
            "                                                               '<pad>',\n",
            "                                                               '<pad>']\n"
          ]
        },
        {
          "data": {
            "text/plain": [
              "['<unk>',\n",
              " 'it',\n",
              " 'his',\n",
              " 'it',\n",
              " '<pad>',\n",
              " '<pad>',\n",
              " '<pad>',\n",
              " '<pad>',\n",
              " '<pad>',\n",
              " '<pad>',\n",
              " '<pad>',\n",
              " '<pad>']"
            ]
          },
          "execution_count": 114,
          "metadata": {},
          "output_type": "execute_result"
        }
      ],
      "source": [
        "for i, (src_in, tgt_in) in enumerate(valid_dl):\n",
        "    if i >= 10:\n",
        "        break\n",
        "    src_in = src_in[:, 0].unsqueeze(-1)  # first item in the batch only\n",
        "    tgt_in = tgt_in[:, 0].unsqueeze(-1)  # first item in the batch only\n",
        "    output = model(\n",
        "        src_in.to(device),\n",
        "        tgt_in.to(device),\n",
        "        Language.src,\n",
        "        Language.tgt,\n",
        "        teacher_forcing_ratio=0,\n",
        "    ).cpu()\n",
        "    torch.set_printoptions(profile=\"full\")\n",
        "    predicted_tokens = output.argmax(-1)\n",
        "\n",
        "    src_sent = \" \".join(src_vocab.get_itos()[t] for t in src_in[:12])\n",
        "    tgt_sent = \" \".join(tgt_vocab.get_itos()[t] for t in predicted_tokens[:12])\n",
        "    ic(src_sent)\n",
        "    ic(tgt_sent)"
      ]
    }
  ],
  "metadata": {
    "kernelspec": {
      "display_name": "0nmt-W1lV1jMD-py3.10",
      "language": "python",
      "name": "python3"
    },
    "language_info": {
      "codemirror_mode": {
        "name": "ipython",
        "version": 3
      },
      "file_extension": ".py",
      "mimetype": "text/x-python",
      "name": "python",
      "nbconvert_exporter": "python",
      "pygments_lexer": "ipython3",
      "version": "3.10.4"
    },
    "orig_nbformat": 4
  },
  "nbformat": 4,
  "nbformat_minor": 2
}
